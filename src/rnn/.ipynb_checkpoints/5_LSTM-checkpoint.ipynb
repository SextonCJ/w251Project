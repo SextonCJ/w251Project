{
 "cells": [
  {
   "cell_type": "markdown",
   "metadata": {},
   "source": [
    "# Train RNN on extracted features or images."
   ]
  },
  {
   "cell_type": "code",
   "execution_count": 1,
   "metadata": {},
   "outputs": [],
   "source": [
    "import warnings\n",
    "warnings.filterwarnings('ignore')"
   ]
  },
  {
   "cell_type": "code",
   "execution_count": 2,
   "metadata": {},
   "outputs": [],
   "source": [
    "from keras.callbacks import TensorBoard, ModelCheckpoint, EarlyStopping, CSVLogger\n",
    "import time\n",
    "import os.path\n",
    "import numpy as np"
   ]
  },
  {
   "cell_type": "code",
   "execution_count": 33,
   "metadata": {},
   "outputs": [],
   "source": [
    "import os\n",
    "from matplotlib import pyplot as plt\n",
    "%matplotlib inline\n",
    "import seaborn as sns\n",
    "from sklearn.metrics import confusion_matrix,classification_report\n",
    "from sklearn.utils import class_weight\n",
    "\n"
   ]
  },
  {
   "cell_type": "code",
   "execution_count": 3,
   "metadata": {},
   "outputs": [],
   "source": [
    "from keras.layers import Dense, Dropout\n",
    "from keras.layers.recurrent import LSTM\n",
    "from keras.models import Sequential\n",
    "from keras.optimizers import Adam, RMSprop\n",
    "from keras.utils.np_utils import to_categorical   "
   ]
  },
  {
   "cell_type": "code",
   "execution_count": 4,
   "metadata": {},
   "outputs": [
    {
     "name": "stdout",
     "output_type": "stream",
     "text": [
      "Num GPUs Available:  1\n"
     ]
    }
   ],
   "source": [
    "import tensorflow as tf\n",
    "print(\"Num GPUs Available: \", len(tf.config.experimental.list_physical_devices('GPU')))"
   ]
  },
  {
   "cell_type": "code",
   "execution_count": 15,
   "metadata": {},
   "outputs": [],
   "source": [
    "# Get features\n",
    "X_train = np.load('videos_faces/train_features.npy') \n",
    "X_val = np.load('videos_faces/val_features.npy') \n",
    "\n",
    "y_train = np.load('videos_faces/train_labels.npy') \n",
    "y_val = np.load('videos_faces/val_labels.npy') "
   ]
  },
  {
   "cell_type": "code",
   "execution_count": 16,
   "metadata": {},
   "outputs": [
    {
     "name": "stdout",
     "output_type": "stream",
     "text": [
      "(91052, 1280) (91052,)\n",
      "(24293, 1280) (24293,)\n"
     ]
    }
   ],
   "source": [
    "print(X_train.shape, y_train.shape)\n",
    "print(X_val.shape, y_val.shape)"
   ]
  },
  {
   "cell_type": "code",
   "execution_count": 17,
   "metadata": {},
   "outputs": [
    {
     "data": {
      "text/plain": [
       "1429.0"
      ]
     },
     "execution_count": 17,
     "metadata": {},
     "output_type": "execute_result"
    }
   ],
   "source": [
    "X_train.shape[0]/17\n",
    "X_val.shape[0]/17"
   ]
  },
  {
   "cell_type": "code",
   "execution_count": 18,
   "metadata": {},
   "outputs": [],
   "source": [
    "X_train = X_train.reshape(5356, 17, 1280)\n",
    "X_val = X_val.reshape(1429, 17, 1280)"
   ]
  },
  {
   "cell_type": "code",
   "execution_count": null,
   "metadata": {},
   "outputs": [],
   "source": []
  },
  {
   "cell_type": "code",
   "execution_count": null,
   "metadata": {},
   "outputs": [],
   "source": []
  },
  {
   "cell_type": "code",
   "execution_count": 19,
   "metadata": {},
   "outputs": [],
   "source": [
    "# split the labels into per video classifier\n",
    "y_train = y_train[1::17]\n",
    "y_val = y_val[1::17]"
   ]
  },
  {
   "cell_type": "code",
   "execution_count": 20,
   "metadata": {},
   "outputs": [],
   "source": [
    "y_train = to_categorical(y_train, num_classes=4)"
   ]
  },
  {
   "cell_type": "code",
   "execution_count": 21,
   "metadata": {},
   "outputs": [],
   "source": [
    "y_val = to_categorical(y_val, num_classes=4)"
   ]
  },
  {
   "cell_type": "code",
   "execution_count": 22,
   "metadata": {},
   "outputs": [
    {
     "name": "stdout",
     "output_type": "stream",
     "text": [
      "(5356, 17, 1280) (5356, 4)\n",
      "(1429, 17, 1280) (1429, 4)\n"
     ]
    }
   ],
   "source": [
    "print(X_train.shape, y_train.shape)\n",
    "print(X_val.shape, y_val.shape)"
   ]
  },
  {
   "cell_type": "code",
   "execution_count": 24,
   "metadata": {},
   "outputs": [],
   "source": [
    "model = 'lstm'\n",
    "seq_length = 17\n",
    "\n",
    "features_length = X_train.shape[2]\n",
    "data_type = 'features'\n",
    "\n",
    "saved_model = None  # None or weights file\n",
    "load_to_memory = False  # pre-load the sequences into memory\n",
    "batch_size = 8\n",
    "epochs = 100 \n",
    "\n",
    "input_shape = (seq_length, features_length)"
   ]
  },
  {
   "cell_type": "code",
   "execution_count": 25,
   "metadata": {},
   "outputs": [
    {
     "name": "stdout",
     "output_type": "stream",
     "text": [
      "(17, 1280)\n"
     ]
    }
   ],
   "source": [
    "print(input_shape)"
   ]
  },
  {
   "cell_type": "code",
   "execution_count": 27,
   "metadata": {},
   "outputs": [],
   "source": [
    "# call backs\n",
    "\n",
    "# save checkpoint\n",
    "timestr = time.strftime(\"%Y%m%d-%H%M%S\")\n",
    "dir_name = '/host/efs/DAiSEE/models/videos_faces/'\n",
    "best_model_file = dir_name + 'LSTM_' + timestr + '_{epoch}.hdf5'\n",
    "\n",
    "checkpoint = ModelCheckpoint(best_model_file,\n",
    "                             verbose=1,\n",
    "                             save_best_only=True)\n",
    "\n",
    "# early stopping\n",
    "#early_stopping = EarlyStopping(patience=5)\n",
    "\n",
    "# tensorboard\n",
    "#tb = TensorBoard(log_dir=os.path.join('models/logs', model))\n",
    "\n",
    "# Helper: Save results.\n",
    "#timestamp = time.time()\n",
    "#csv_logger = CSVLogger(os.path.join('models/logs', model + '-' + 'training-' + str(timestamp) + '.log'))\n",
    "\n",
    "# callbacks\n",
    "#callbacks=[tb, early_stopping, csv_logger, checkpoint]\n",
    "\n",
    "# early stopping callback\n",
    "early_stopping = EarlyStopping(monitor='val_loss', patience=4, verbose=1, mode='auto')   \n",
    "\n",
    "callbacks = [checkpoint, early_stopping]"
   ]
  },
  {
   "cell_type": "code",
   "execution_count": 28,
   "metadata": {},
   "outputs": [],
   "source": [
    "model = Sequential()\n",
    "model.add(LSTM(units=2048, input_shape=(17,1280),\n",
    "               return_sequences=False,\n",
    "               dropout=0.2))\n",
    "model.add(Dense(512, activation='relu'))\n",
    "model.add(Dropout(0.5))\n",
    "model.add(Dense(4, activation='softmax'))"
   ]
  },
  {
   "cell_type": "code",
   "execution_count": 29,
   "metadata": {},
   "outputs": [
    {
     "name": "stdout",
     "output_type": "stream",
     "text": [
      "Model: \"sequential\"\n",
      "_________________________________________________________________\n",
      "Layer (type)                 Output Shape              Param #   \n",
      "=================================================================\n",
      "lstm (LSTM)                  (None, 2048)              27271168  \n",
      "_________________________________________________________________\n",
      "dense (Dense)                (None, 512)               1049088   \n",
      "_________________________________________________________________\n",
      "dropout (Dropout)            (None, 512)               0         \n",
      "_________________________________________________________________\n",
      "dense_1 (Dense)              (None, 4)                 2052      \n",
      "=================================================================\n",
      "Total params: 28,322,308\n",
      "Trainable params: 28,322,308\n",
      "Non-trainable params: 0\n",
      "_________________________________________________________________\n"
     ]
    }
   ],
   "source": [
    "model.summary()"
   ]
  },
  {
   "cell_type": "code",
   "execution_count": 30,
   "metadata": {},
   "outputs": [],
   "source": [
    "optimizer = Adam(lr=1e-5, decay=1e-6)\n",
    "model.compile(loss='categorical_crossentropy', optimizer=optimizer, metrics=['accuracy'])"
   ]
  },
  {
   "cell_type": "code",
   "execution_count": 31,
   "metadata": {},
   "outputs": [
    {
     "name": "stdout",
     "output_type": "stream",
     "text": [
      "Epoch 1/100\n",
      "666/670 [============================>.] - ETA: 0s - loss: 1.1879 - accuracy: 0.4206\n",
      "Epoch 00001: val_loss improved from inf to 1.43065, saving model to /host/efs/DAiSEE/models/videos_faces/LSTM_20201125-120042_1.hdf5\n",
      "670/670 [==============================] - 12s 17ms/step - loss: 1.1865 - accuracy: 0.4220 - val_loss: 1.4306 - val_accuracy: 0.3121\n",
      "Epoch 2/100\n",
      "666/670 [============================>.] - ETA: 0s - loss: 1.1660 - accuracy: 0.4354\n",
      "Epoch 00002: val_loss improved from 1.43065 to 1.41586, saving model to /host/efs/DAiSEE/models/videos_faces/LSTM_20201125-120042_2.hdf5\n",
      "670/670 [==============================] - 11s 16ms/step - loss: 1.1657 - accuracy: 0.4361 - val_loss: 1.4159 - val_accuracy: 0.3121\n",
      "Epoch 3/100\n",
      "666/670 [============================>.] - ETA: 0s - loss: 1.1599 - accuracy: 0.4435\n",
      "Epoch 00003: val_loss improved from 1.41586 to 1.37987, saving model to /host/efs/DAiSEE/models/videos_faces/LSTM_20201125-120042_3.hdf5\n",
      "670/670 [==============================] - 11s 16ms/step - loss: 1.1606 - accuracy: 0.4432 - val_loss: 1.3799 - val_accuracy: 0.3121\n",
      "Epoch 4/100\n",
      "670/670 [==============================] - ETA: 0s - loss: 1.1536 - accuracy: 0.4479\n",
      "Epoch 00004: val_loss did not improve from 1.37987\n",
      "670/670 [==============================] - 8s 12ms/step - loss: 1.1536 - accuracy: 0.4479 - val_loss: 1.4121 - val_accuracy: 0.3121\n",
      "Epoch 5/100\n",
      "670/670 [==============================] - ETA: 0s - loss: 1.1525 - accuracy: 0.4565\n",
      "Epoch 00005: val_loss did not improve from 1.37987\n",
      "670/670 [==============================] - 8s 12ms/step - loss: 1.1525 - accuracy: 0.4565 - val_loss: 1.4211 - val_accuracy: 0.3121\n",
      "Epoch 6/100\n",
      "666/670 [============================>.] - ETA: 0s - loss: 1.1522 - accuracy: 0.4471\n",
      "Epoch 00006: val_loss did not improve from 1.37987\n",
      "670/670 [==============================] - 8s 12ms/step - loss: 1.1526 - accuracy: 0.4470 - val_loss: 1.4038 - val_accuracy: 0.3079\n",
      "Epoch 7/100\n",
      "666/670 [============================>.] - ETA: 0s - loss: 1.1483 - accuracy: 0.4473\n",
      "Epoch 00007: val_loss did not improve from 1.37987\n",
      "670/670 [==============================] - 8s 12ms/step - loss: 1.1485 - accuracy: 0.4468 - val_loss: 1.4202 - val_accuracy: 0.3121\n",
      "Epoch 00007: early stopping\n"
     ]
    }
   ],
   "source": [
    "history = model.fit(X_train,\n",
    "          y_train,\n",
    "          batch_size=batch_size,\n",
    "          validation_data=(X_val, y_val),\n",
    "          verbose=1,\n",
    "          callbacks=callbacks,\n",
    "          epochs=epochs)"
   ]
  },
  {
   "cell_type": "code",
   "execution_count": 34,
   "metadata": {},
   "outputs": [
    {
     "name": "stdout",
     "output_type": "stream",
     "text": [
      "dict_keys(['loss', 'accuracy', 'val_loss', 'val_accuracy'])\n"
     ]
    },
    {
     "data": {
      "image/png": "[encoded data removed]",
      "text/plain": [
       "<Figure size 432x288 with 1 Axes>"
      ]
     },
     "metadata": {
      "needs_background": "light"
     },
     "output_type": "display_data"
    }
   ],
   "source": [
    "# Show graphs\n",
    "print(history.history.keys())\n",
    "\n",
    "plt.plot(history.history['loss'])\n",
    "plt.plot(history.history['val_loss'])\n",
    "plt.title('model loss')\n",
    "plt.ylabel('loss')\n",
    "plt.xlabel('epoch')\n",
    "plt.legend(['train', 'val'], loc='upper left')\n",
    "plt.show()"
   ]
  },
  {
   "cell_type": "code",
   "execution_count": 35,
   "metadata": {},
   "outputs": [
    {
     "name": "stdout",
     "output_type": "stream",
     "text": [
      "dict_keys(['loss', 'accuracy', 'val_loss', 'val_accuracy'])\n"
     ]
    },
    {
     "data": {
      "image/png": "[encoded data removed]",
      "text/plain": [
       "<Figure size 432x288 with 1 Axes>"
      ]
     },
     "metadata": {
      "needs_background": "light"
     },
     "output_type": "display_data"
    }
   ],
   "source": [
    "# Show graphs\n",
    "print(history.history.keys())\n",
    "\n",
    "plt.plot(history.history['accuracy'])\n",
    "plt.plot(history.history['val_accuracy'])\n",
    "plt.title('model accuracy')\n",
    "plt.ylabel('accuracy')\n",
    "plt.xlabel('epoch')\n",
    "plt.legend(['train', 'val'], loc='upper left')\n",
    "plt.show()"
   ]
  },
  {
   "cell_type": "code",
   "execution_count": 44,
   "metadata": {},
   "outputs": [
    {
     "name": "stdout",
     "output_type": "stream",
     "text": [
      "1784.0\n",
      "(1784, 17, 1280) (1784, 4)\n"
     ]
    }
   ],
   "source": [
    "# Get features\n",
    "X_test = np.load('videos_faces/test_features.npy') \n",
    "y_test = np.load('videos_faces/test_labels.npy') \n",
    "print(X_test.shape[0]/17)\n",
    "X_test = X_test.reshape(1784, 17, 1280)\n",
    "y_test = y_test[1::17]\n",
    "y_test = to_categorical(y_test, num_classes=4)\n",
    "print(X_test.shape, y_test.shape)"
   ]
  },
  {
   "cell_type": "code",
   "execution_count": 42,
   "metadata": {},
   "outputs": [],
   "source": [
    "\n"
   ]
  },
  {
   "cell_type": "code",
   "execution_count": 46,
   "metadata": {},
   "outputs": [
    {
     "name": "stdout",
     "output_type": "stream",
     "text": [
      "56/56 [==============================] - 0s 7ms/step - loss: 1.1255 - accuracy: 0.4613\n",
      "test acc: 0.4613228738307953\n"
     ]
    }
   ],
   "source": [
    "test_loss, test_acc = model.evaluate(X_test, y_test)\n",
    "print('test acc:', test_acc)\n",
    "\n"
   ]
  },
  {
   "cell_type": "code",
   "execution_count": 47,
   "metadata": {},
   "outputs": [],
   "source": [
    "predictions = model.predict(X_test)"
   ]
  },
  {
   "cell_type": "code",
   "execution_count": 54,
   "metadata": {},
   "outputs": [],
   "source": [
    "y_pred = np.argmax(predictions, axis = 1)\n",
    "y_test = np.argmax(y_test, axis = 1)"
   ]
  },
  {
   "cell_type": "code",
   "execution_count": 55,
   "metadata": {},
   "outputs": [
    {
     "name": "stdout",
     "output_type": "stream",
     "text": [
      "             precision    recall  f1-score   support\n",
      "\n",
      "          0       0.46      1.00      0.63       823\n",
      "          1       0.00      0.00      0.00       584\n",
      "          2       0.00      0.00      0.00       338\n",
      "          3       0.00      0.00      0.00        39\n",
      "\n",
      "avg / total       0.21      0.46      0.29      1784\n",
      "\n"
     ]
    }
   ],
   "source": [
    "# print the report\n",
    "print(classification_report(y_test, y_pred))"
   ]
  },
  {
   "cell_type": "code",
   "execution_count": 56,
   "metadata": {},
   "outputs": [
    {
     "data": {
      "image/png": "[encoded data removed]",
      "text/plain": [
       "<Figure size 432x288 with 2 Axes>"
      ]
     },
     "metadata": {
      "needs_background": "light"
     },
     "output_type": "display_data"
    }
   ],
   "source": [
    "class_labels = [0,1,2,3]\n",
    "cm = confusion_matrix(y_test, y_pred, class_labels)\n",
    "\n",
    "ax= plt.subplot()\n",
    "sns.heatmap(cm, annot=True, ax = ax, fmt='g', cmap='Greens'); #annot=True to annotate cells\n",
    "\n",
    "# labels, title and ticks\n",
    "ax.set_xlabel('Predicted labels');ax.set_ylabel('True labels'); \n",
    "ax.set_title('Confusion Matrix'); \n",
    "ax.xaxis.set_ticklabels(class_labels); ax.yaxis.set_ticklabels(class_labels);"
   ]
  },
  {
   "cell_type": "code",
   "execution_count": null,
   "metadata": {},
   "outputs": [],
   "source": []
  },
  {
   "cell_type": "code",
   "execution_count": null,
   "metadata": {},
   "outputs": [],
   "source": []
  }
 ],
 "metadata": {
  "kernelspec": {
   "display_name": "Python 3",
   "language": "python",
   "name": "python3"
  },
  "language_info": {
   "codemirror_mode": {
    "name": "ipython",
    "version": 3
   },
   "file_extension": ".py",
   "mimetype": "text/x-python",
   "name": "python",
   "nbconvert_exporter": "python",
   "pygments_lexer": "ipython3",
   "version": "3.7.6"
  }
 },
 "nbformat": 4,
 "nbformat_minor": 2
}
