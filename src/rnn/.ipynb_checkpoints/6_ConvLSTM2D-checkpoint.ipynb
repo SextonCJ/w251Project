{
 "cells": [
  {
   "cell_type": "code",
   "execution_count": 29,
   "metadata": {},
   "outputs": [],
   "source": [
    "import warnings\n",
    "warnings.filterwarnings('ignore')\n",
    "\n",
    "import os\n",
    "from matplotlib import pyplot as plt\n",
    "%matplotlib inline\n",
    "import shutil\n",
    "import glob\n",
    "from pathlib import Path\n",
    "import pandas as pd\n",
    "import numpy as np\n",
    "import time\n",
    "\n",
    "from PIL import Image\n",
    "import cv2\n",
    "from numpy import asarray\n",
    "\n",
    "from keras.utils import to_categorical\n",
    "\n",
    "import os\n",
    "\n",
    "import seaborn as sns\n",
    "from sklearn.metrics import confusion_matrix,classification_report\n",
    "from sklearn.utils import class_weight"
   ]
  },
  {
   "cell_type": "code",
   "execution_count": 2,
   "metadata": {},
   "outputs": [],
   "source": [
    "# get the file path and name\n",
    "df_train = pd.DataFrame([file_path for file_path in Path('videos_faces/train').glob('**/*.jpg')], columns=['file'])\n",
    "df_train[\"root\"] = df_train[\"file\"].apply(lambda x: os.path.split(os.path.split(x)[0])[1])\n",
    "df_train['basefile'] = df_train['file'].apply(lambda x: os.path.basename(x))\n",
    "df_train['sequence'] = df_train['basefile'].apply(lambda x: int(x[x.find('_')+1:-4]))\n",
    "df_train['basename'] = df_train['basefile'].apply(lambda x: x[:x.find('_')])\n",
    "df_train.sort_values([\"root\", \"basename\", \"sequence\"], inplace = True)\n",
    "\n",
    "df_test = pd.DataFrame([file_path for file_path in Path('videos_faces/test').glob('**/*.jpg')], columns=['file'])\n",
    "df_test[\"root\"] = df_test[\"file\"].apply(lambda x: os.path.split(os.path.split(x)[0])[1])\n",
    "df_test['basefile'] = df_test['file'].apply(lambda x: os.path.basename(x))\n",
    "df_test['sequence'] = df_test['basefile'].apply(lambda x: int(x[x.find('_')+1:-4]))\n",
    "df_test['basename'] = df_test['basefile'].apply(lambda x: x[:x.find('_')])    \n",
    "df_test.sort_values([\"root\", \"basename\", \"sequence\"], inplace = True)\n",
    "\n",
    "df_val = pd.DataFrame([file_path for file_path in Path('videos_faces/validation').glob('**/*.jpg')], columns=['file'])\n",
    "df_val[\"root\"] = df_val[\"file\"].apply(lambda x: os.path.split(os.path.split(x)[0])[1])\n",
    "df_val['basefile'] = df_val['file'].apply(lambda x: os.path.basename(x))\n",
    "df_val['sequence'] = df_val['basefile'].apply(lambda x: int(x[x.find('_')+1:-4]))\n",
    "df_val['basename'] = df_val['basefile'].apply(lambda x: x[:x.find('_')])    \n",
    "df_val.sort_values([\"root\", \"basename\", \"sequence\"], inplace = True)"
   ]
  },
  {
   "cell_type": "code",
   "execution_count": 3,
   "metadata": {},
   "outputs": [],
   "source": [
    "def del_files(file_list):\n",
    "    for f in file_list:\n",
    "        try:\n",
    "            os.remove(f)\n",
    "        except:\n",
    "            continue"
   ]
  },
  {
   "cell_type": "code",
   "execution_count": 4,
   "metadata": {},
   "outputs": [],
   "source": [
    "# resequence the faces\n",
    "df_train['face_seq']=df_train.groupby('basename').cumcount()\n",
    "df_test['face_seq']=df_test.groupby('basename').cumcount()\n",
    "df_val['face_seq']=df_val.groupby('basename').cumcount()"
   ]
  },
  {
   "cell_type": "code",
   "execution_count": 5,
   "metadata": {},
   "outputs": [],
   "source": [
    "# Remove just the files that are too long, in essence the last one or two out of 20\n",
    "\n",
    "# get list of files and delete\n",
    "train_del_files = df_train[df_train['face_seq'] > 16]['file'].to_list()\n",
    "del_files(train_del_files)\n",
    "\n",
    "test_del_files = df_test[df_test['face_seq'] > 16]['file'].to_list()\n",
    "del_files(test_del_files)\n",
    "\n",
    "val_del_files = df_val[df_val['face_seq'] > 16]['file'].to_list()\n",
    "del_files(val_del_files)\n",
    "\n",
    "# remove from dataframe\n",
    "df_train.drop(df_train[df_train['face_seq'] > 16].index, inplace = True) \n",
    "df_test.drop(df_test[df_test['face_seq'] > 16].index, inplace = True) \n",
    "df_val.drop(df_val[df_val['face_seq'] > 16].index, inplace = True) "
   ]
  },
  {
   "cell_type": "code",
   "execution_count": 6,
   "metadata": {},
   "outputs": [
    {
     "name": "stdout",
     "output_type": "stream",
     "text": [
      "train 17\n",
      "test 17\n",
      "val 17\n"
     ]
    }
   ],
   "source": [
    "# check minimum number of frames per basename again - should be 17\n",
    "print(\"train\", df_train.groupby(['basename']).size().min())\n",
    "print(\"test\",df_test.groupby(['basename']).size().min())\n",
    "print(\"val\",df_val.groupby(['basename']).size().min())"
   ]
  },
  {
   "cell_type": "code",
   "execution_count": 7,
   "metadata": {},
   "outputs": [],
   "source": [
    "# reset the indexes\n",
    "df_train.reset_index(drop=True, inplace=True)\n",
    "df_test.reset_index(drop=True, inplace=True)\n",
    "df_val.reset_index(drop=True, inplace=True)"
   ]
  },
  {
   "cell_type": "code",
   "execution_count": 8,
   "metadata": {},
   "outputs": [
    {
     "data": {
      "text/html": [
       "<div>\n",
       "<style scoped>\n",
       "    .dataframe tbody tr th:only-of-type {\n",
       "        vertical-align: middle;\n",
       "    }\n",
       "\n",
       "    .dataframe tbody tr th {\n",
       "        vertical-align: top;\n",
       "    }\n",
       "\n",
       "    .dataframe thead th {\n",
       "        text-align: right;\n",
       "    }\n",
       "</style>\n",
       "<table border=\"1\" class=\"dataframe\">\n",
       "  <thead>\n",
       "    <tr style=\"text-align: right;\">\n",
       "      <th></th>\n",
       "      <th>file</th>\n",
       "      <th>root</th>\n",
       "      <th>basefile</th>\n",
       "      <th>sequence</th>\n",
       "      <th>basename</th>\n",
       "      <th>face_seq</th>\n",
       "    </tr>\n",
       "  </thead>\n",
       "  <tbody>\n",
       "    <tr>\n",
       "      <th>0</th>\n",
       "      <td>videos_faces/train/b0/1100011002_1.jpg</td>\n",
       "      <td>b0</td>\n",
       "      <td>1100011002_1.jpg</td>\n",
       "      <td>1</td>\n",
       "      <td>1100011002</td>\n",
       "      <td>0</td>\n",
       "    </tr>\n",
       "    <tr>\n",
       "      <th>1</th>\n",
       "      <td>videos_faces/train/b0/1100011002_2.jpg</td>\n",
       "      <td>b0</td>\n",
       "      <td>1100011002_2.jpg</td>\n",
       "      <td>2</td>\n",
       "      <td>1100011002</td>\n",
       "      <td>1</td>\n",
       "    </tr>\n",
       "    <tr>\n",
       "      <th>2</th>\n",
       "      <td>videos_faces/train/b0/1100011002_3.jpg</td>\n",
       "      <td>b0</td>\n",
       "      <td>1100011002_3.jpg</td>\n",
       "      <td>3</td>\n",
       "      <td>1100011002</td>\n",
       "      <td>2</td>\n",
       "    </tr>\n",
       "    <tr>\n",
       "      <th>3</th>\n",
       "      <td>videos_faces/train/b0/1100011002_4.jpg</td>\n",
       "      <td>b0</td>\n",
       "      <td>1100011002_4.jpg</td>\n",
       "      <td>4</td>\n",
       "      <td>1100011002</td>\n",
       "      <td>3</td>\n",
       "    </tr>\n",
       "    <tr>\n",
       "      <th>4</th>\n",
       "      <td>videos_faces/train/b0/1100011002_5.jpg</td>\n",
       "      <td>b0</td>\n",
       "      <td>1100011002_5.jpg</td>\n",
       "      <td>5</td>\n",
       "      <td>1100011002</td>\n",
       "      <td>4</td>\n",
       "    </tr>\n",
       "  </tbody>\n",
       "</table>\n",
       "</div>"
      ],
      "text/plain": [
       "                                     file root          basefile  sequence  \\\n",
       "0  videos_faces/train/b0/1100011002_1.jpg   b0  1100011002_1.jpg         1   \n",
       "1  videos_faces/train/b0/1100011002_2.jpg   b0  1100011002_2.jpg         2   \n",
       "2  videos_faces/train/b0/1100011002_3.jpg   b0  1100011002_3.jpg         3   \n",
       "3  videos_faces/train/b0/1100011002_4.jpg   b0  1100011002_4.jpg         4   \n",
       "4  videos_faces/train/b0/1100011002_5.jpg   b0  1100011002_5.jpg         5   \n",
       "\n",
       "     basename  face_seq  \n",
       "0  1100011002         0  \n",
       "1  1100011002         1  \n",
       "2  1100011002         2  \n",
       "3  1100011002         3  \n",
       "4  1100011002         4  "
      ]
     },
     "execution_count": 8,
     "metadata": {},
     "output_type": "execute_result"
    }
   ],
   "source": [
    "# Now all the dataframes are in order and all the files are in order \n",
    "# we can load the files as arrays and create the model\n",
    "df_train.head()"
   ]
  },
  {
   "cell_type": "code",
   "execution_count": 9,
   "metadata": {},
   "outputs": [],
   "source": [
    "# create label\n",
    "df_train['label'] = df_train['root'].str.replace('b','').astype(int)\n",
    "df_test['label'] = df_test['root'].str.replace('b','').astype(int)\n",
    "df_val['label'] = df_val['root'].str.replace('b','').astype(int)"
   ]
  },
  {
   "cell_type": "code",
   "execution_count": 10,
   "metadata": {},
   "outputs": [],
   "source": [
    "# Need to load images into a numpy array - cannot find how to use generator for LSTMCNN\n",
    "files = df_val['file'].to_list()\n",
    "x_val = np.array([np.array(Image.open(fname).resize((160,160))) for fname in files])\n",
    "#x_val.dump('videos_faces/x_val.npy')\n",
    "\n",
    "files = df_train['file'].to_list()\n",
    "x_train = np.array([np.array(Image.open(fname).resize((160,160))) for fname in files])\n",
    "#x_train.dump('videos_faces/x_train.npy')\n",
    "\n",
    "files = df_test['file'].to_list()\n",
    "x_test = np.array([np.array(Image.open(fname).resize((160,160))) for fname in files])\n",
    "#x_train.dump('videos_faces/x_train.npy')"
   ]
  },
  {
   "cell_type": "code",
   "execution_count": 43,
   "metadata": {},
   "outputs": [],
   "source": [
    "# Get the labels and one-hot encode\n",
    "y_train = df_train['label'].to_numpy()\n",
    "y_train = to_categorical(y_train, num_classes=4)\n",
    "#y_train.dump('videos_faces/y_train.npy')\n",
    "\n",
    "y_val = df_val['label'].to_numpy()\n",
    "y_val = to_categorical(y_val, num_classes=4)\n",
    "#y_val.dump('videos_faces/y_val.npy')\n",
    "\n",
    "y_test = df_test['label'].to_numpy()\n",
    "y_test = to_categorical(y_test, num_classes=4)\n",
    "#y_val.dump('videos_faces/y_val.npy')"
   ]
  },
  {
   "cell_type": "code",
   "execution_count": 44,
   "metadata": {},
   "outputs": [
    {
     "name": "stdout",
     "output_type": "stream",
     "text": [
      "(91052, 160, 160, 3) (91052, 4)\n",
      "(24293, 160, 160, 3) (24293, 4)\n",
      "(30328, 160, 160, 3) (30328, 4)\n"
     ]
    }
   ],
   "source": [
    "# These are good for CNN, then can sequence out features for LSTM\n",
    "# But we are going to do a CNNLSTM\n",
    "print(x_train.shape, y_train.shape)\n",
    "print(x_val.shape, y_val.shape)\n",
    "print(x_test.shape, y_test.shape)"
   ]
  },
  {
   "cell_type": "code",
   "execution_count": 53,
   "metadata": {},
   "outputs": [
    {
     "name": "stdout",
     "output_type": "stream",
     "text": [
      "train 5356.0\n",
      "val 1429.0\n",
      "test 1784.0\n"
     ]
    }
   ],
   "source": [
    "print(\"train\", x_train.shape[0] / 17)\n",
    "print(\"val\", x_val.shape[0] / 17)\n",
    "print(\"test\", x_test.shape[0] / 17)"
   ]
  },
  {
   "cell_type": "code",
   "execution_count": 54,
   "metadata": {},
   "outputs": [],
   "source": [
    "# Reshape to get sequences together\n",
    "# reshape\n",
    "x_train_lstm = x_train.reshape(5356, 17, 160, 160, 3)\n",
    "x_val_lstm = x_val.reshape(1429, 17, 160, 160, 3)\n",
    "x_test_lstm = x_test.reshape(1784, 17, 160, 160, 3)\n",
    "\n",
    "y_train_lstm = y_train[1::17]\n",
    "y_val_lstm = y_val[1::17]\n",
    "y_test_lstm = y_test[1::17]\n"
   ]
  },
  {
   "cell_type": "code",
   "execution_count": 55,
   "metadata": {},
   "outputs": [
    {
     "name": "stdout",
     "output_type": "stream",
     "text": [
      "(5356, 17, 160, 160, 3) (5356, 4)\n",
      "(1429, 17, 160, 160, 3) (1429, 4)\n",
      "(1784, 17, 160, 160, 3) (1784, 4)\n"
     ]
    }
   ],
   "source": [
    "#LSTM Shapes\n",
    "print(x_train_lstm.shape, y_train_lstm.shape)\n",
    "print(x_val_lstm.shape, y_val_lstm.shape)\n",
    "print(x_test_lstm.shape, y_test_lstm.shape)"
   ]
  },
  {
   "cell_type": "code",
   "execution_count": 18,
   "metadata": {},
   "outputs": [
    {
     "name": "stdout",
     "output_type": "stream",
     "text": [
      "[PhysicalDevice(name='/physical_device:GPU:0', device_type='GPU')]\n"
     ]
    }
   ],
   "source": [
    "import tensorflow as tf\n",
    "print(tf.config.experimental.list_physical_devices('GPU'))"
   ]
  },
  {
   "cell_type": "code",
   "execution_count": 19,
   "metadata": {},
   "outputs": [],
   "source": [
    "import tensorflow as tf\n",
    "gpus = tf.config.experimental.list_physical_devices('GPU')\n",
    "tf.config.experimental.set_memory_growth(gpus[0], True)"
   ]
  },
  {
   "cell_type": "code",
   "execution_count": 44,
   "metadata": {},
   "outputs": [
    {
     "name": "stdout",
     "output_type": "stream",
     "text": [
      "Virtual devices cannot be modified after being initialized\n"
     ]
    }
   ],
   "source": [
    "import tensorflow as tf\n",
    "gpus = tf.config.experimental.list_physical_devices('GPU')\n",
    "if gpus:\n",
    "  # Restrict TensorFlow to only allocate 1GB of memory on the first GPU\n",
    "  try:\n",
    "    tf.config.experimental.set_virtual_device_configuration(\n",
    "        gpus[0],\n",
    "        [tf.config.experimental.VirtualDeviceConfiguration(memory_limit=2048)])\n",
    "    logical_gpus = tf.config.experimental.list_logical_devices('GPU')\n",
    "    print(len(gpus), \"Physical GPUs,\", len(logical_gpus), \"Logical GPUs\")\n",
    "  except RuntimeError as e:\n",
    "    # Virtual devices must be set before GPUs have been initialized\n",
    "    print(e)\n"
   ]
  },
  {
   "cell_type": "code",
   "execution_count": 21,
   "metadata": {},
   "outputs": [],
   "source": [
    "from keras import layers, Sequential\n",
    "from keras.layers import Dense, Flatten, GlobalAveragePooling2D, ConvLSTM2D, Dropout\n",
    "from keras.models import Model\n",
    "\n",
    "from keras.preprocessing.image import ImageDataGenerator\n",
    "\n",
    "from keras.callbacks import ModelCheckpoint, EarlyStopping\n",
    "from keras.optimizers import RMSprop, SGD, Adam\n",
    "\n",
    "from keras.applications import MobileNetV2"
   ]
  },
  {
   "cell_type": "code",
   "execution_count": 62,
   "metadata": {},
   "outputs": [
    {
     "name": "stdout",
     "output_type": "stream",
     "text": [
      "Model: \"sequential_3\"\n",
      "_________________________________________________________________\n",
      "Layer (type)                 Output Shape              Param #   \n",
      "=================================================================\n",
      "conv_lst_m2d_3 (ConvLSTM2D)  (None, 158, 158, 16)      11008     \n",
      "_________________________________________________________________\n",
      "dropout_6 (Dropout)          (None, 158, 158, 16)      0         \n",
      "_________________________________________________________________\n",
      "flatten_3 (Flatten)          (None, 399424)            0         \n",
      "_________________________________________________________________\n",
      "dense_6 (Dense)              (None, 256)               102252800 \n",
      "_________________________________________________________________\n",
      "dropout_7 (Dropout)          (None, 256)               0         \n",
      "_________________________________________________________________\n",
      "dense_7 (Dense)              (None, 4)                 1028      \n",
      "=================================================================\n",
      "Total params: 102,264,836\n",
      "Trainable params: 102,264,836\n",
      "Non-trainable params: 0\n",
      "_________________________________________________________________\n"
     ]
    }
   ],
   "source": [
    "#################\n",
    "# CNN-LSTM.     # \n",
    "#################\n",
    "\n",
    "lr = 0.0001\n",
    "decay = 1e-6\n",
    "\n",
    "img_height , img_width = 160, 160\n",
    "seq_len = 17\n",
    "  \n",
    "model = Sequential()\n",
    "model.add(ConvLSTM2D(filters = 16, kernel_size = (3, 3), return_sequences = False, data_format = \"channels_last\", input_shape = (seq_len, img_height, img_width, 3)))\n",
    "model.add(Dropout(0.2))\n",
    "model.add(Flatten())\n",
    "model.add(Dense(256, activation=\"relu\"))\n",
    "model.add(Dropout(0.3))\n",
    "model.add(Dense(4, activation = \"softmax\"))\n",
    " \n",
    "model.summary()\n",
    "\n",
    "# checkpoint callback\n",
    "timestr = time.strftime(\"%Y%m%d-%H%M%S\")\n",
    "dir_name = '/host/efs/models/lstm_17/'\n",
    "model_name = 'ConvLSTM2D'\n",
    "best_model_file = dir_name + model_name + '_' + timestr + '_{epoch}.hdf5'\n",
    "\n",
    "checkpoint = ModelCheckpoint(best_model_file,\n",
    "                             monitor='accuracy',\n",
    "                             verbose=1,\n",
    "                             save_best_only=True,\n",
    "                             mode='max')\n",
    "\n",
    "# early stopping callback\n",
    "early_stopping = EarlyStopping(monitor='val_loss', patience=4, verbose=1, mode='auto')   \n",
    "\n",
    "callbacks = [checkpoint, early_stopping]\n",
    "\n",
    "model.compile(optimizer=Adam(lr=lr, decay=decay),\n",
    "              loss=\"categorical_crossentropy\",\n",
    "              metrics =[\"accuracy\"])"
   ]
  },
  {
   "cell_type": "code",
   "execution_count": 27,
   "metadata": {},
   "outputs": [
    {
     "name": "stdout",
     "output_type": "stream",
     "text": [
      "Epoch 1/5\n",
      "670/670 [==============================] - ETA: 0s - loss: 1.6162 - accuracy: 0.4173\n",
      "Epoch 00001: accuracy improved from -inf to 0.41729, saving model to models/lstm_17/ConvLSTM2D_20201124-194454_1.hdf5\n",
      "670/670 [==============================] - 85s 128ms/step - loss: 1.6162 - accuracy: 0.4173 - val_loss: 1.3322 - val_accuracy: 0.3226\n",
      "Epoch 2/5\n",
      "670/670 [==============================] - ETA: 0s - loss: 1.1758 - accuracy: 0.4505\n",
      "Epoch 00002: accuracy improved from 0.41729 to 0.45052, saving model to models/lstm_17/ConvLSTM2D_20201124-194454_2.hdf5\n",
      "670/670 [==============================] - 84s 125ms/step - loss: 1.1758 - accuracy: 0.4505 - val_loss: 1.5043 - val_accuracy: 0.3254\n",
      "Epoch 3/5\n",
      "670/670 [==============================] - ETA: 0s - loss: 1.2128 - accuracy: 0.4492\n",
      "Epoch 00003: accuracy did not improve from 0.45052\n",
      "670/670 [==============================] - 84s 125ms/step - loss: 1.2128 - accuracy: 0.4492 - val_loss: 1.3670 - val_accuracy: 0.3121\n",
      "Epoch 4/5\n",
      "670/670 [==============================] - ETA: 0s - loss: 1.1785 - accuracy: 0.4528\n",
      "Epoch 00004: accuracy improved from 0.45052 to 0.45276, saving model to models/lstm_17/ConvLSTM2D_20201124-194454_4.hdf5\n",
      "670/670 [==============================] - 84s 125ms/step - loss: 1.1785 - accuracy: 0.4528 - val_loss: 1.3552 - val_accuracy: 0.3121\n",
      "Epoch 5/5\n",
      "670/670 [==============================] - ETA: 0s - loss: 1.1513 - accuracy: 0.4531\n",
      "Epoch 00005: accuracy improved from 0.45276 to 0.45314, saving model to models/lstm_17/ConvLSTM2D_20201124-194454_5.hdf5\n",
      "670/670 [==============================] - 83s 124ms/step - loss: 1.1513 - accuracy: 0.4531 - val_loss: 1.4930 - val_accuracy: 0.3121\n",
      "Epoch 00005: early stopping\n"
     ]
    }
   ],
   "source": [
    "history = model.fit(\n",
    "    x=x_train_lstm, \n",
    "    y=y_train_lstm, \n",
    "    batch_size=8, \n",
    "    epochs=5, \n",
    "    verbose=1, \n",
    "    callbacks=callbacks,\n",
    "    validation_data=(x_val_lstm, y_val_lstm), \n",
    ")"
   ]
  },
  {
   "cell_type": "code",
   "execution_count": 30,
   "metadata": {},
   "outputs": [
    {
     "name": "stdout",
     "output_type": "stream",
     "text": [
      "dict_keys(['loss', 'accuracy', 'val_loss', 'val_accuracy'])\n"
     ]
    },
    {
     "data": {
      "image/png": "[encoded data removed]",
      "text/plain": [
       "<Figure size 432x288 with 1 Axes>"
      ]
     },
     "metadata": {
      "needs_background": "light"
     },
     "output_type": "display_data"
    }
   ],
   "source": [
    "# Show graphs\n",
    "print(history.history.keys())\n",
    "\n",
    "plt.plot(history.history['loss'])\n",
    "plt.plot(history.history['val_loss'])\n",
    "plt.title('model loss')\n",
    "plt.ylabel('loss')\n",
    "plt.xlabel('epoch')\n",
    "plt.legend(['train', 'val'], loc='upper left')\n",
    "plt.show()"
   ]
  },
  {
   "cell_type": "code",
   "execution_count": 31,
   "metadata": {},
   "outputs": [
    {
     "name": "stdout",
     "output_type": "stream",
     "text": [
      "dict_keys(['loss', 'accuracy', 'val_loss', 'val_accuracy'])\n"
     ]
    },
    {
     "data": {
      "image/png": "[encoded data removed]",
      "text/plain": [
       "<Figure size 432x288 with 1 Axes>"
      ]
     },
     "metadata": {
      "needs_background": "light"
     },
     "output_type": "display_data"
    }
   ],
   "source": [
    "print(history.history.keys())\n",
    "\n",
    "plt.plot(history.history['accuracy'])\n",
    "plt.plot(history.history['val_accuracy'])\n",
    "plt.title('model accuracy')\n",
    "plt.ylabel('accuracy')\n",
    "plt.xlabel('epoch')\n",
    "plt.legend(['train', 'val'], loc='upper left')\n",
    "plt.show()"
   ]
  },
  {
   "cell_type": "code",
   "execution_count": 52,
   "metadata": {},
   "outputs": [],
   "source": [
    "# test on unseen data\n",
    "y_pred = model.predict(x_test_lstm)"
   ]
  },
  {
   "cell_type": "code",
   "execution_count": 59,
   "metadata": {},
   "outputs": [],
   "source": [
    "# to get around one hot encoding\n",
    "y_pred = np.argmax(y_pred, axis = 1)\n",
    "y_test = np.argmax(y_test_lstm, axis = 1)"
   ]
  },
  {
   "cell_type": "code",
   "execution_count": 60,
   "metadata": {},
   "outputs": [
    {
     "name": "stdout",
     "output_type": "stream",
     "text": [
      "             precision    recall  f1-score   support\n",
      "\n",
      "          0       0.46      1.00      0.63       823\n",
      "          1       0.00      0.00      0.00       584\n",
      "          2       0.00      0.00      0.00       338\n",
      "          3       0.00      0.00      0.00        39\n",
      "\n",
      "avg / total       0.21      0.46      0.29      1784\n",
      "\n"
     ]
    }
   ],
   "source": [
    "# print the report\n",
    "print(classification_report(y_test, y_pred))"
   ]
  },
  {
   "cell_type": "code",
   "execution_count": 61,
   "metadata": {},
   "outputs": [
    {
     "data": {
      "image/png": "[encoded data removed]",
      "text/plain": [
       "<Figure size 432x288 with 2 Axes>"
      ]
     },
     "metadata": {
      "needs_background": "light"
     },
     "output_type": "display_data"
    }
   ],
   "source": [
    "class_labels = [0,1,2,3]\n",
    "cm = confusion_matrix(y_test, y_pred, class_labels)\n",
    "\n",
    "ax= plt.subplot()\n",
    "sns.heatmap(cm, annot=True, ax = ax, fmt='g', cmap='Greens'); #annot=True to annotate cells\n",
    "\n",
    "# labels, title and ticks\n",
    "ax.set_xlabel('Predicted labels');ax.set_ylabel('True labels'); \n",
    "ax.set_title('Confusion Matrix'); \n",
    "ax.xaxis.set_ticklabels(class_labels); ax.yaxis.set_ticklabels(class_labels);"
   ]
  },
  {
   "cell_type": "code",
   "execution_count": null,
   "metadata": {},
   "outputs": [],
   "source": []
  }
 ],
 "metadata": {
  "kernelspec": {
   "display_name": "Python 3",
   "language": "python",
   "name": "python3"
  },
  "language_info": {
   "codemirror_mode": {
    "name": "ipython",
    "version": 3
   },
   "file_extension": ".py",
   "mimetype": "text/x-python",
   "name": "python",
   "nbconvert_exporter": "python",
   "pygments_lexer": "ipython3",
   "version": "3.7.6"
  }
 },
 "nbformat": 4,
 "nbformat_minor": 2
}
