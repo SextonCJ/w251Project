{
 "cells": [
  {
   "cell_type": "markdown",
   "metadata": {},
   "source": [
    "# Train RNN on extracted features or images."
   ]
  },
  {
   "cell_type": "code",
   "execution_count": 1,
   "metadata": {},
   "outputs": [],
   "source": [
    "import warnings\n",
    "warnings.filterwarnings('ignore')"
   ]
  },
  {
   "cell_type": "code",
   "execution_count": 3,
   "metadata": {},
   "outputs": [],
   "source": [
    "import os\n",
    "import time\n",
    "import os.path\n",
    "import numpy as np\n",
    "\n",
    "from matplotlib import pyplot as plt\n",
    "%matplotlib inline\n",
    "import seaborn as sns\n",
    "from sklearn.metrics import confusion_matrix,classification_report\n",
    "from sklearn.utils import class_weight\n",
    "\n",
    "from keras.callbacks import TensorBoard, ModelCheckpoint, EarlyStopping, CSVLogger\n",
    "from keras.layers import Dense, Dropout\n",
    "from keras.layers.recurrent import LSTM\n",
    "from keras.models import Sequential\n",
    "from keras.optimizers import Adam, RMSprop\n",
    "from keras.utils.np_utils import to_categorical  \n",
    "\n",
    "import tensorflow as tf"
   ]
  },
  {
   "cell_type": "code",
   "execution_count": 5,
   "metadata": {},
   "outputs": [
    {
     "name": "stdout",
     "output_type": "stream",
     "text": [
      "Num GPUs Available:  1\n"
     ]
    }
   ],
   "source": [
    "\n",
    "print(\"Num GPUs Available: \", len(tf.config.experimental.list_physical_devices('GPU')))"
   ]
  },
  {
   "cell_type": "code",
   "execution_count": 19,
   "metadata": {},
   "outputs": [],
   "source": [
    "fps = '2FPS'\n",
    "frame_dir = '../../data/DAiSEE/' + fps + '/data/'\n",
    "features_dir = os.getcwd() + '/features/' \n",
    "usage = ['Train', 'Test', 'Validation']\n",
    "\n",
    "model_dir = '../../data/models/lstm/'"
   ]
  },
  {
   "cell_type": "code",
   "execution_count": 7,
   "metadata": {},
   "outputs": [],
   "source": [
    "# Get features\n",
    "X_train = np.load(features_dir + 'train_features.npy') \n",
    "y_train = np.load(features_dir + 'train_labels.npy') \n",
    "\n",
    "X_val = np.load(features_dir + 'val_features.npy') \n",
    "y_val = np.load(features_dir + 'val_labels.npy') "
   ]
  },
  {
   "cell_type": "code",
   "execution_count": 8,
   "metadata": {},
   "outputs": [
    {
     "name": "stdout",
     "output_type": "stream",
     "text": [
      "(107160, 1280) (107160,)\n",
      "(28580, 1280) (28580,)\n"
     ]
    }
   ],
   "source": [
    "print(X_train.shape, y_train.shape)\n",
    "print(X_val.shape, y_val.shape)"
   ]
  },
  {
   "cell_type": "code",
   "execution_count": 9,
   "metadata": {},
   "outputs": [
    {
     "name": "stdout",
     "output_type": "stream",
     "text": [
      "5358.0\n",
      "1429.0\n"
     ]
    }
   ],
   "source": [
    "print(X_train.shape[0]/20)\n",
    "print(X_val.shape[0]/20)"
   ]
  },
  {
   "cell_type": "code",
   "execution_count": 11,
   "metadata": {},
   "outputs": [],
   "source": [
    "X_train = X_train.reshape(int(X_train.shape[0]/20), 20, 1280)\n",
    "X_val = X_val.reshape(int(X_val.shape[0]/20), 20, 1280)"
   ]
  },
  {
   "cell_type": "code",
   "execution_count": 12,
   "metadata": {},
   "outputs": [],
   "source": [
    "# split the labels into per video classifier\n",
    "y_train = y_train[1::20]\n",
    "y_val = y_val[1::20]"
   ]
  },
  {
   "cell_type": "code",
   "execution_count": 13,
   "metadata": {},
   "outputs": [],
   "source": [
    "y_train = to_categorical(y_train, num_classes=4)"
   ]
  },
  {
   "cell_type": "code",
   "execution_count": 14,
   "metadata": {},
   "outputs": [],
   "source": [
    "y_val = to_categorical(y_val, num_classes=4)"
   ]
  },
  {
   "cell_type": "code",
   "execution_count": 15,
   "metadata": {},
   "outputs": [
    {
     "name": "stdout",
     "output_type": "stream",
     "text": [
      "(5358, 20, 1280) (5358, 4)\n",
      "(1429, 20, 1280) (1429, 4)\n"
     ]
    }
   ],
   "source": [
    "print(X_train.shape, y_train.shape)\n",
    "print(X_val.shape, y_val.shape)"
   ]
  },
  {
   "cell_type": "code",
   "execution_count": 16,
   "metadata": {},
   "outputs": [],
   "source": [
    "model = 'lstm'\n",
    "seq_length = 20\n",
    "\n",
    "features_length = X_train.shape[2]\n",
    "data_type = 'features'\n",
    "\n",
    "saved_model = None  # None or weights file\n",
    "load_to_memory = False  # pre-load the sequences into memory\n",
    "batch_size = 32\n",
    "epochs = 100 \n",
    "\n",
    "input_shape = (seq_length, features_length)"
   ]
  },
  {
   "cell_type": "code",
   "execution_count": 17,
   "metadata": {},
   "outputs": [
    {
     "name": "stdout",
     "output_type": "stream",
     "text": [
      "(20, 1280)\n"
     ]
    }
   ],
   "source": [
    "print(input_shape)"
   ]
  },
  {
   "cell_type": "code",
   "execution_count": 48,
   "metadata": {},
   "outputs": [],
   "source": [
    "# call backs\n",
    "\n",
    "# save checkpoint\n",
    "timestr = time.strftime(\"%Y%m%d-%H%M%S\")\n",
    "best_model_file = model_dir + 'LSTM_' + timestr + '_{epoch}.hdf5'\n",
    "\n",
    "checkpoint = ModelCheckpoint(best_model_file,\n",
    "                             monitor='accuracy',\n",
    "                             verbose=1,\n",
    "                             save_best_only=True,\n",
    "                             mode='max')\n",
    "\n",
    "# early stopping callback\n",
    "early_stopping = EarlyStopping(monitor='accuracy', patience=4, verbose=1, mode='auto')   \n",
    "\n",
    "callbacks = [checkpoint, early_stopping]"
   ]
  },
  {
   "cell_type": "code",
   "execution_count": 49,
   "metadata": {},
   "outputs": [],
   "source": [
    "model = Sequential()\n",
    "model.add(LSTM(units=2048, input_shape=(20,1280),\n",
    "               return_sequences=False,\n",
    "               dropout=0.2))\n",
    "model.add(Dense(512, activation='relu'))\n",
    "model.add(Dropout(0.2))\n",
    "model.add(Dense(4, activation='softmax'))"
   ]
  },
  {
   "cell_type": "code",
   "execution_count": 50,
   "metadata": {},
   "outputs": [
    {
     "name": "stdout",
     "output_type": "stream",
     "text": [
      "Model: \"sequential_2\"\n",
      "_________________________________________________________________\n",
      "Layer (type)                 Output Shape              Param #   \n",
      "=================================================================\n",
      "lstm_2 (LSTM)                (None, 2048)              27271168  \n",
      "_________________________________________________________________\n",
      "dense_4 (Dense)              (None, 512)               1049088   \n",
      "_________________________________________________________________\n",
      "dropout_2 (Dropout)          (None, 512)               0         \n",
      "_________________________________________________________________\n",
      "dense_5 (Dense)              (None, 4)                 2052      \n",
      "=================================================================\n",
      "Total params: 28,322,308\n",
      "Trainable params: 28,322,308\n",
      "Non-trainable params: 0\n",
      "_________________________________________________________________\n"
     ]
    }
   ],
   "source": [
    "model.summary()"
   ]
  },
  {
   "cell_type": "code",
   "execution_count": 51,
   "metadata": {},
   "outputs": [],
   "source": [
    "optimizer = Adam(lr=1e-5, decay=1e-6)\n",
    "model.compile(loss='categorical_crossentropy', optimizer=optimizer, metrics=['accuracy'])"
   ]
  },
  {
   "cell_type": "code",
   "execution_count": 52,
   "metadata": {},
   "outputs": [
    {
     "name": "stdout",
     "output_type": "stream",
     "text": [
      "Epoch 1/100\n",
      "168/168 [==============================] - ETA: 0s - loss: 1.0961 - accuracy: 0.4879\n",
      "Epoch 00001: accuracy improved from -inf to 0.48787, saving model to ../../data/models/lstm/LSTM_20201205-094352_1.hdf5\n",
      "168/168 [==============================] - 4s 24ms/step - loss: 1.0961 - accuracy: 0.4879 - val_loss: 1.3712 - val_accuracy: 0.3464\n",
      "Epoch 2/100\n",
      "165/168 [============================>.] - ETA: 0s - loss: 1.0355 - accuracy: 0.5199\n",
      "Epoch 00002: accuracy improved from 0.48787 to 0.52016, saving model to ../../data/models/lstm/LSTM_20201205-094352_2.hdf5\n",
      "168/168 [==============================] - 4s 21ms/step - loss: 1.0354 - accuracy: 0.5202 - val_loss: 1.3373 - val_accuracy: 0.3555\n",
      "Epoch 3/100\n",
      "165/168 [============================>.] - ETA: 0s - loss: 1.0077 - accuracy: 0.5333\n",
      "Epoch 00003: accuracy improved from 0.52016 to 0.53378, saving model to ../../data/models/lstm/LSTM_20201205-094352_3.hdf5\n",
      "168/168 [==============================] - 4s 21ms/step - loss: 1.0085 - accuracy: 0.5338 - val_loss: 1.3633 - val_accuracy: 0.3562\n",
      "Epoch 4/100\n",
      "165/168 [============================>.] - ETA: 0s - loss: 0.9938 - accuracy: 0.5430\n",
      "Epoch 00004: accuracy improved from 0.53378 to 0.54311, saving model to ../../data/models/lstm/LSTM_20201205-094352_4.hdf5\n",
      "168/168 [==============================] - 4s 21ms/step - loss: 0.9934 - accuracy: 0.5431 - val_loss: 1.3291 - val_accuracy: 0.3625\n",
      "Epoch 5/100\n",
      "165/168 [============================>.] - ETA: 0s - loss: 0.9746 - accuracy: 0.5458\n",
      "Epoch 00005: accuracy improved from 0.54311 to 0.54591, saving model to ../../data/models/lstm/LSTM_20201205-094352_5.hdf5\n",
      "168/168 [==============================] - 4s 21ms/step - loss: 0.9752 - accuracy: 0.5459 - val_loss: 1.4299 - val_accuracy: 0.3506\n",
      "Epoch 6/100\n",
      "165/168 [============================>.] - ETA: 0s - loss: 0.9614 - accuracy: 0.5652\n",
      "Epoch 00006: accuracy improved from 0.54591 to 0.56607, saving model to ../../data/models/lstm/LSTM_20201205-094352_6.hdf5\n",
      "168/168 [==============================] - 4s 21ms/step - loss: 0.9611 - accuracy: 0.5661 - val_loss: 1.3532 - val_accuracy: 0.3667\n",
      "Epoch 7/100\n",
      "165/168 [============================>.] - ETA: 0s - loss: 0.9500 - accuracy: 0.5716\n",
      "Epoch 00007: accuracy improved from 0.56607 to 0.57130, saving model to ../../data/models/lstm/LSTM_20201205-094352_7.hdf5\n",
      "168/168 [==============================] - 4s 21ms/step - loss: 0.9487 - accuracy: 0.5713 - val_loss: 1.4317 - val_accuracy: 0.3464\n",
      "Epoch 8/100\n",
      "165/168 [============================>.] - ETA: 0s - loss: 0.9389 - accuracy: 0.5744\n",
      "Epoch 00008: accuracy improved from 0.57130 to 0.57559, saving model to ../../data/models/lstm/LSTM_20201205-094352_8.hdf5\n",
      "168/168 [==============================] - 4s 21ms/step - loss: 0.9374 - accuracy: 0.5756 - val_loss: 1.3672 - val_accuracy: 0.3737\n",
      "Epoch 9/100\n",
      "165/168 [============================>.] - ETA: 0s - loss: 0.9267 - accuracy: 0.5860\n",
      "Epoch 00009: accuracy improved from 0.57559 to 0.58343, saving model to ../../data/models/lstm/LSTM_20201205-094352_9.hdf5\n",
      "168/168 [==============================] - 4s 21ms/step - loss: 0.9285 - accuracy: 0.5834 - val_loss: 1.4086 - val_accuracy: 0.3562\n",
      "Epoch 10/100\n",
      "165/168 [============================>.] - ETA: 0s - loss: 0.9131 - accuracy: 0.5848\n",
      "Epoch 00010: accuracy improved from 0.58343 to 0.58417, saving model to ../../data/models/lstm/LSTM_20201205-094352_10.hdf5\n",
      "168/168 [==============================] - 4s 21ms/step - loss: 0.9132 - accuracy: 0.5842 - val_loss: 1.4195 - val_accuracy: 0.3541\n",
      "Epoch 11/100\n",
      "165/168 [============================>.] - ETA: 0s - loss: 0.9087 - accuracy: 0.5860\n",
      "Epoch 00011: accuracy improved from 0.58417 to 0.58641, saving model to ../../data/models/lstm/LSTM_20201205-094352_11.hdf5\n",
      "168/168 [==============================] - 4s 22ms/step - loss: 0.9072 - accuracy: 0.5864 - val_loss: 1.4416 - val_accuracy: 0.3541\n",
      "Epoch 12/100\n",
      "165/168 [============================>.] - ETA: 0s - loss: 0.8969 - accuracy: 0.5911\n",
      "Epoch 00012: accuracy improved from 0.58641 to 0.59033, saving model to ../../data/models/lstm/LSTM_20201205-094352_12.hdf5\n",
      "168/168 [==============================] - 4s 22ms/step - loss: 0.8981 - accuracy: 0.5903 - val_loss: 1.3883 - val_accuracy: 0.3569\n",
      "Epoch 13/100\n",
      "165/168 [============================>.] - ETA: 0s - loss: 0.8857 - accuracy: 0.5985\n",
      "Epoch 00013: accuracy improved from 0.59033 to 0.59910, saving model to ../../data/models/lstm/LSTM_20201205-094352_13.hdf5\n",
      "168/168 [==============================] - 4s 21ms/step - loss: 0.8854 - accuracy: 0.5991 - val_loss: 1.4401 - val_accuracy: 0.3737\n",
      "Epoch 14/100\n",
      "165/168 [============================>.] - ETA: 0s - loss: 0.8828 - accuracy: 0.6104\n",
      "Epoch 00014: accuracy improved from 0.59910 to 0.60974, saving model to ../../data/models/lstm/LSTM_20201205-094352_14.hdf5\n",
      "168/168 [==============================] - 4s 21ms/step - loss: 0.8823 - accuracy: 0.6097 - val_loss: 1.4243 - val_accuracy: 0.3492\n",
      "Epoch 15/100\n",
      "165/168 [============================>.] - ETA: 0s - loss: 0.8703 - accuracy: 0.6140\n",
      "Epoch 00015: accuracy improved from 0.60974 to 0.61478, saving model to ../../data/models/lstm/LSTM_20201205-094352_15.hdf5\n",
      "168/168 [==============================] - 4s 21ms/step - loss: 0.8689 - accuracy: 0.6148 - val_loss: 1.3814 - val_accuracy: 0.3688\n",
      "Epoch 16/100\n",
      "165/168 [============================>.] - ETA: 0s - loss: 0.8600 - accuracy: 0.6116\n",
      "Epoch 00016: accuracy did not improve from 0.61478\n",
      "168/168 [==============================] - 3s 17ms/step - loss: 0.8590 - accuracy: 0.6125 - val_loss: 1.4751 - val_accuracy: 0.3331\n",
      "Epoch 17/100\n",
      "165/168 [============================>.] - ETA: 0s - loss: 0.8360 - accuracy: 0.6280\n",
      "Epoch 00017: accuracy improved from 0.61478 to 0.62561, saving model to ../../data/models/lstm/LSTM_20201205-094352_17.hdf5\n",
      "168/168 [==============================] - 4s 21ms/step - loss: 0.8401 - accuracy: 0.6256 - val_loss: 1.4823 - val_accuracy: 0.3604\n",
      "Epoch 18/100\n",
      "165/168 [============================>.] - ETA: 0s - loss: 0.8281 - accuracy: 0.6305\n",
      "Epoch 00018: accuracy improved from 0.62561 to 0.63121, saving model to ../../data/models/lstm/LSTM_20201205-094352_18.hdf5\n",
      "168/168 [==============================] - 4s 21ms/step - loss: 0.8289 - accuracy: 0.6312 - val_loss: 1.4490 - val_accuracy: 0.3590\n",
      "Epoch 19/100\n",
      "165/168 [============================>.] - ETA: 0s - loss: 0.8216 - accuracy: 0.6313\n",
      "Epoch 00019: accuracy did not improve from 0.63121\n",
      "168/168 [==============================] - 3s 17ms/step - loss: 0.8219 - accuracy: 0.6305 - val_loss: 1.4376 - val_accuracy: 0.3534\n",
      "Epoch 20/100\n",
      "168/168 [==============================] - ETA: 0s - loss: 0.8148 - accuracy: 0.6376\n",
      "Epoch 00020: accuracy improved from 0.63121 to 0.63755, saving model to ../../data/models/lstm/LSTM_20201205-094352_20.hdf5\n",
      "168/168 [==============================] - 4s 21ms/step - loss: 0.8148 - accuracy: 0.6376 - val_loss: 1.5022 - val_accuracy: 0.3576\n",
      "Epoch 21/100\n",
      "165/168 [============================>.] - ETA: 0s - loss: 0.8014 - accuracy: 0.6494\n",
      "Epoch 00021: accuracy improved from 0.63755 to 0.65006, saving model to ../../data/models/lstm/LSTM_20201205-094352_21.hdf5\n",
      "168/168 [==============================] - 4s 21ms/step - loss: 0.7993 - accuracy: 0.6501 - val_loss: 1.5125 - val_accuracy: 0.3443\n",
      "Epoch 22/100\n",
      "165/168 [============================>.] - ETA: 0s - loss: 0.7947 - accuracy: 0.6394\n",
      "Epoch 00022: accuracy did not improve from 0.65006\n",
      "168/168 [==============================] - 3s 17ms/step - loss: 0.7943 - accuracy: 0.6402 - val_loss: 1.5024 - val_accuracy: 0.3436\n",
      "Epoch 23/100\n",
      "165/168 [============================>.] - ETA: 0s - loss: 0.7824 - accuracy: 0.6485\n",
      "Epoch 00023: accuracy did not improve from 0.65006\n",
      "168/168 [==============================] - 3s 17ms/step - loss: 0.7825 - accuracy: 0.6486 - val_loss: 1.6025 - val_accuracy: 0.3331\n",
      "Epoch 24/100\n",
      "165/168 [============================>.] - ETA: 0s - loss: 0.7640 - accuracy: 0.6608\n",
      "Epoch 00024: accuracy improved from 0.65006 to 0.66163, saving model to ../../data/models/lstm/LSTM_20201205-094352_24.hdf5\n",
      "168/168 [==============================] - 4s 21ms/step - loss: 0.7628 - accuracy: 0.6616 - val_loss: 1.6037 - val_accuracy: 0.3527\n",
      "Epoch 25/100\n"
     ]
    },
    {
     "name": "stdout",
     "output_type": "stream",
     "text": [
      "165/168 [============================>.] - ETA: 0s - loss: 0.7580 - accuracy: 0.6682\n",
      "Epoch 00025: accuracy improved from 0.66163 to 0.66816, saving model to ../../data/models/lstm/LSTM_20201205-094352_25.hdf5\n",
      "168/168 [==============================] - 4s 21ms/step - loss: 0.7567 - accuracy: 0.6682 - val_loss: 1.6376 - val_accuracy: 0.3534\n",
      "Epoch 26/100\n",
      "165/168 [============================>.] - ETA: 0s - loss: 0.7467 - accuracy: 0.6648\n",
      "Epoch 00026: accuracy did not improve from 0.66816\n",
      "168/168 [==============================] - 3s 17ms/step - loss: 0.7461 - accuracy: 0.6654 - val_loss: 1.6255 - val_accuracy: 0.3478\n",
      "Epoch 27/100\n",
      "165/168 [============================>.] - ETA: 0s - loss: 0.7416 - accuracy: 0.6699\n",
      "Epoch 00027: accuracy improved from 0.66816 to 0.67133, saving model to ../../data/models/lstm/LSTM_20201205-094352_27.hdf5\n",
      "168/168 [==============================] - 4s 21ms/step - loss: 0.7400 - accuracy: 0.6713 - val_loss: 1.6028 - val_accuracy: 0.3394\n",
      "Epoch 28/100\n",
      "165/168 [============================>.] - ETA: 0s - loss: 0.7243 - accuracy: 0.6775\n",
      "Epoch 00028: accuracy improved from 0.67133 to 0.67749, saving model to ../../data/models/lstm/LSTM_20201205-094352_28.hdf5\n",
      "168/168 [==============================] - 4s 21ms/step - loss: 0.7238 - accuracy: 0.6775 - val_loss: 1.6188 - val_accuracy: 0.3387\n",
      "Epoch 29/100\n",
      "165/168 [============================>.] - ETA: 0s - loss: 0.7189 - accuracy: 0.6822\n",
      "Epoch 00029: accuracy improved from 0.67749 to 0.68253, saving model to ../../data/models/lstm/LSTM_20201205-094352_29.hdf5\n",
      "168/168 [==============================] - 4s 21ms/step - loss: 0.7187 - accuracy: 0.6825 - val_loss: 1.6080 - val_accuracy: 0.3429\n",
      "Epoch 30/100\n",
      "165/168 [============================>.] - ETA: 0s - loss: 0.7050 - accuracy: 0.6831\n",
      "Epoch 00030: accuracy improved from 0.68253 to 0.68290, saving model to ../../data/models/lstm/LSTM_20201205-094352_30.hdf5\n",
      "168/168 [==============================] - 4s 21ms/step - loss: 0.7045 - accuracy: 0.6829 - val_loss: 1.7288 - val_accuracy: 0.3373\n",
      "Epoch 31/100\n",
      "165/168 [============================>.] - ETA: 0s - loss: 0.6872 - accuracy: 0.6920\n",
      "Epoch 00031: accuracy improved from 0.68290 to 0.69037, saving model to ../../data/models/lstm/LSTM_20201205-094352_31.hdf5\n",
      "168/168 [==============================] - 4s 21ms/step - loss: 0.6893 - accuracy: 0.6904 - val_loss: 1.6851 - val_accuracy: 0.3233\n",
      "Epoch 32/100\n",
      "165/168 [============================>.] - ETA: 0s - loss: 0.6872 - accuracy: 0.6892\n",
      "Epoch 00032: accuracy did not improve from 0.69037\n",
      "168/168 [==============================] - 3s 17ms/step - loss: 0.6875 - accuracy: 0.6891 - val_loss: 1.6498 - val_accuracy: 0.3240\n",
      "Epoch 33/100\n",
      "165/168 [============================>.] - ETA: 0s - loss: 0.6689 - accuracy: 0.7080\n",
      "Epoch 00033: accuracy improved from 0.69037 to 0.70773, saving model to ../../data/models/lstm/LSTM_20201205-094352_33.hdf5\n",
      "168/168 [==============================] - 4s 21ms/step - loss: 0.6698 - accuracy: 0.7077 - val_loss: 1.7732 - val_accuracy: 0.3499\n",
      "Epoch 34/100\n",
      "165/168 [============================>.] - ETA: 0s - loss: 0.6601 - accuracy: 0.7095\n",
      "Epoch 00034: accuracy improved from 0.70773 to 0.71015, saving model to ../../data/models/lstm/LSTM_20201205-094352_34.hdf5\n",
      "168/168 [==============================] - 4s 21ms/step - loss: 0.6588 - accuracy: 0.7102 - val_loss: 1.9768 - val_accuracy: 0.3121\n",
      "Epoch 35/100\n",
      "165/168 [============================>.] - ETA: 0s - loss: 0.6486 - accuracy: 0.7222\n",
      "Epoch 00035: accuracy improved from 0.71015 to 0.72154, saving model to ../../data/models/lstm/LSTM_20201205-094352_35.hdf5\n",
      "168/168 [==============================] - 4s 21ms/step - loss: 0.6500 - accuracy: 0.7215 - val_loss: 1.8156 - val_accuracy: 0.3107\n",
      "Epoch 36/100\n",
      "165/168 [============================>.] - ETA: 0s - loss: 0.6459 - accuracy: 0.7123\n",
      "Epoch 00036: accuracy did not improve from 0.72154\n",
      "168/168 [==============================] - 3s 17ms/step - loss: 0.6454 - accuracy: 0.7130 - val_loss: 1.7782 - val_accuracy: 0.3296\n",
      "Epoch 37/100\n",
      "165/168 [============================>.] - ETA: 0s - loss: 0.6268 - accuracy: 0.7277\n",
      "Epoch 00037: accuracy improved from 0.72154 to 0.72714, saving model to ../../data/models/lstm/LSTM_20201205-094352_37.hdf5\n",
      "168/168 [==============================] - 4s 21ms/step - loss: 0.6274 - accuracy: 0.7271 - val_loss: 1.7999 - val_accuracy: 0.3212\n",
      "Epoch 38/100\n",
      "165/168 [============================>.] - ETA: 0s - loss: 0.6209 - accuracy: 0.7273\n",
      "Epoch 00038: accuracy improved from 0.72714 to 0.72788, saving model to ../../data/models/lstm/LSTM_20201205-094352_38.hdf5\n",
      "168/168 [==============================] - 4s 21ms/step - loss: 0.6206 - accuracy: 0.7279 - val_loss: 1.7640 - val_accuracy: 0.3345\n",
      "Epoch 39/100\n",
      "165/168 [============================>.] - ETA: 0s - loss: 0.6148 - accuracy: 0.7337\n",
      "Epoch 00039: accuracy improved from 0.72788 to 0.73404, saving model to ../../data/models/lstm/LSTM_20201205-094352_39.hdf5\n",
      "168/168 [==============================] - 4s 21ms/step - loss: 0.6137 - accuracy: 0.7340 - val_loss: 1.7710 - val_accuracy: 0.3205\n",
      "Epoch 40/100\n",
      "165/168 [============================>.] - ETA: 0s - loss: 0.5975 - accuracy: 0.7405\n",
      "Epoch 00040: accuracy improved from 0.73404 to 0.74001, saving model to ../../data/models/lstm/LSTM_20201205-094352_40.hdf5\n",
      "168/168 [==============================] - 4s 21ms/step - loss: 0.5989 - accuracy: 0.7400 - val_loss: 1.8990 - val_accuracy: 0.3079\n",
      "Epoch 41/100\n",
      "165/168 [============================>.] - ETA: 0s - loss: 0.5893 - accuracy: 0.7470\n",
      "Epoch 00041: accuracy improved from 0.74001 to 0.74524, saving model to ../../data/models/lstm/LSTM_20201205-094352_41.hdf5\n",
      "168/168 [==============================] - 4s 21ms/step - loss: 0.5912 - accuracy: 0.7452 - val_loss: 1.9215 - val_accuracy: 0.3009\n",
      "Epoch 42/100\n",
      "165/168 [============================>.] - ETA: 0s - loss: 0.5818 - accuracy: 0.7513\n",
      "Epoch 00042: accuracy improved from 0.74524 to 0.75065, saving model to ../../data/models/lstm/LSTM_20201205-094352_42.hdf5\n",
      "168/168 [==============================] - 4s 21ms/step - loss: 0.5823 - accuracy: 0.7507 - val_loss: 1.9171 - val_accuracy: 0.3002\n",
      "Epoch 43/100\n",
      "165/168 [============================>.] - ETA: 0s - loss: 0.5758 - accuracy: 0.7489\n",
      "Epoch 00043: accuracy did not improve from 0.75065\n",
      "168/168 [==============================] - 3s 17ms/step - loss: 0.5762 - accuracy: 0.7490 - val_loss: 1.8580 - val_accuracy: 0.3212\n",
      "Epoch 44/100\n",
      "168/168 [==============================] - ETA: 0s - loss: 0.5560 - accuracy: 0.7577\n",
      "Epoch 00044: accuracy improved from 0.75065 to 0.75775, saving model to ../../data/models/lstm/LSTM_20201205-094352_44.hdf5\n",
      "168/168 [==============================] - 4s 21ms/step - loss: 0.5560 - accuracy: 0.7577 - val_loss: 1.9356 - val_accuracy: 0.3121\n",
      "Epoch 45/100\n",
      "168/168 [==============================] - ETA: 0s - loss: 0.5475 - accuracy: 0.7645\n",
      "Epoch 00045: accuracy improved from 0.75775 to 0.76446, saving model to ../../data/models/lstm/LSTM_20201205-094352_45.hdf5\n",
      "168/168 [==============================] - 4s 21ms/step - loss: 0.5475 - accuracy: 0.7645 - val_loss: 2.0606 - val_accuracy: 0.3016\n",
      "Epoch 46/100\n",
      "165/168 [============================>.] - ETA: 0s - loss: 0.5484 - accuracy: 0.7655\n",
      "Epoch 00046: accuracy improved from 0.76446 to 0.76465, saving model to ../../data/models/lstm/LSTM_20201205-094352_46.hdf5\n",
      "168/168 [==============================] - 4s 21ms/step - loss: 0.5500 - accuracy: 0.7647 - val_loss: 1.9544 - val_accuracy: 0.3023\n",
      "Epoch 47/100\n",
      "165/168 [============================>.] - ETA: 0s - loss: 0.5441 - accuracy: 0.7706\n",
      "Epoch 00047: accuracy improved from 0.76465 to 0.77118, saving model to ../../data/models/lstm/LSTM_20201205-094352_47.hdf5\n",
      "168/168 [==============================] - 4s 21ms/step - loss: 0.5431 - accuracy: 0.7712 - val_loss: 2.0258 - val_accuracy: 0.3044\n",
      "Epoch 48/100\n",
      "165/168 [============================>.] - ETA: 0s - loss: 0.5285 - accuracy: 0.7693\n",
      "Epoch 00048: accuracy did not improve from 0.77118\n",
      "168/168 [==============================] - 3s 17ms/step - loss: 0.5305 - accuracy: 0.7682 - val_loss: 2.0677 - val_accuracy: 0.2960\n",
      "Epoch 49/100\n",
      "165/168 [============================>.] - ETA: 0s - loss: 0.5268 - accuracy: 0.7752\n",
      "Epoch 00049: accuracy improved from 0.77118 to 0.77641, saving model to ../../data/models/lstm/LSTM_20201205-094352_49.hdf5\n",
      "168/168 [==============================] - 4s 21ms/step - loss: 0.5257 - accuracy: 0.7764 - val_loss: 2.0462 - val_accuracy: 0.3226\n",
      "Epoch 50/100\n",
      "165/168 [============================>.] - ETA: 0s - loss: 0.5250 - accuracy: 0.7735\n",
      "Epoch 00050: accuracy did not improve from 0.77641\n",
      "168/168 [==============================] - 3s 17ms/step - loss: 0.5266 - accuracy: 0.7719 - val_loss: 2.0112 - val_accuracy: 0.2897\n",
      "Epoch 51/100\n",
      "165/168 [============================>.] - ETA: 0s - loss: 0.5074 - accuracy: 0.7788\n",
      "Epoch 00051: accuracy improved from 0.77641 to 0.77940, saving model to ../../data/models/lstm/LSTM_20201205-094352_51.hdf5\n",
      "168/168 [==============================] - 4s 21ms/step - loss: 0.5066 - accuracy: 0.7794 - val_loss: 1.9753 - val_accuracy: 0.3247\n",
      "Epoch 52/100\n",
      "165/168 [============================>.] - ETA: 0s - loss: 0.5133 - accuracy: 0.7782\n",
      "Epoch 00052: accuracy did not improve from 0.77940\n",
      "168/168 [==============================] - 3s 17ms/step - loss: 0.5128 - accuracy: 0.7786 - val_loss: 2.0533 - val_accuracy: 0.3016\n",
      "Epoch 53/100\n",
      "165/168 [============================>.] - ETA: 0s - loss: 0.4994 - accuracy: 0.7884\n",
      "Epoch 00053: accuracy improved from 0.77940 to 0.78929, saving model to ../../data/models/lstm/LSTM_20201205-094352_53.hdf5\n",
      "168/168 [==============================] - 4s 21ms/step - loss: 0.4987 - accuracy: 0.7893 - val_loss: 2.1205 - val_accuracy: 0.3184\n",
      "Epoch 54/100\n",
      "165/168 [============================>.] - ETA: 0s - loss: 0.4908 - accuracy: 0.7860\n",
      "Epoch 00054: accuracy did not improve from 0.78929\n",
      "168/168 [==============================] - 3s 17ms/step - loss: 0.4930 - accuracy: 0.7844 - val_loss: 2.1293 - val_accuracy: 0.3086\n",
      "Epoch 55/100\n",
      "165/168 [============================>.] - ETA: 0s - loss: 0.4776 - accuracy: 0.7983\n",
      "Epoch 00055: accuracy improved from 0.78929 to 0.79769, saving model to ../../data/models/lstm/LSTM_20201205-094352_55.hdf5\n",
      "168/168 [==============================] - 4s 21ms/step - loss: 0.4774 - accuracy: 0.7977 - val_loss: 2.1712 - val_accuracy: 0.3135\n",
      "Epoch 56/100\n",
      "168/168 [==============================] - ETA: 0s - loss: 0.4797 - accuracy: 0.7876\n",
      "Epoch 00056: accuracy did not improve from 0.79769\n",
      "168/168 [==============================] - 3s 17ms/step - loss: 0.4797 - accuracy: 0.7876 - val_loss: 2.1969 - val_accuracy: 0.2946\n",
      "Epoch 57/100\n",
      "165/168 [============================>.] - ETA: 0s - loss: 0.4687 - accuracy: 0.7936\n",
      "Epoch 00057: accuracy did not improve from 0.79769\n",
      "168/168 [==============================] - 3s 17ms/step - loss: 0.4692 - accuracy: 0.7934 - val_loss: 2.1788 - val_accuracy: 0.3065\n",
      "Epoch 58/100\n",
      "168/168 [==============================] - ETA: 0s - loss: 0.4658 - accuracy: 0.7938\n",
      "Epoch 00058: accuracy did not improve from 0.79769\n",
      "168/168 [==============================] - 3s 17ms/step - loss: 0.4658 - accuracy: 0.7938 - val_loss: 2.0874 - val_accuracy: 0.3296\n",
      "Epoch 59/100\n",
      "165/168 [============================>.] - ETA: 0s - loss: 0.4576 - accuracy: 0.8027\n",
      "Epoch 00059: accuracy improved from 0.79769 to 0.80384, saving model to ../../data/models/lstm/LSTM_20201205-094352_59.hdf5\n",
      "168/168 [==============================] - 4s 21ms/step - loss: 0.4568 - accuracy: 0.8038 - val_loss: 2.2033 - val_accuracy: 0.3002\n",
      "Epoch 60/100\n",
      "165/168 [============================>.] - ETA: 0s - loss: 0.4561 - accuracy: 0.8062\n",
      "Epoch 00060: accuracy improved from 0.80384 to 0.80664, saving model to ../../data/models/lstm/LSTM_20201205-094352_60.hdf5\n",
      "168/168 [==============================] - 4s 21ms/step - loss: 0.4561 - accuracy: 0.8066 - val_loss: 2.3798 - val_accuracy: 0.3275\n",
      "Epoch 61/100\n",
      "165/168 [============================>.] - ETA: 0s - loss: 0.4401 - accuracy: 0.8081\n",
      "Epoch 00061: accuracy improved from 0.80664 to 0.80870, saving model to ../../data/models/lstm/LSTM_20201205-094352_61.hdf5\n",
      "168/168 [==============================] - 4s 21ms/step - loss: 0.4391 - accuracy: 0.8087 - val_loss: 2.2288 - val_accuracy: 0.3191\n",
      "Epoch 62/100\n",
      "165/168 [============================>.] - ETA: 0s - loss: 0.4325 - accuracy: 0.8197\n",
      "Epoch 00062: accuracy improved from 0.80870 to 0.81952, saving model to ../../data/models/lstm/LSTM_20201205-094352_62.hdf5\n",
      "168/168 [==============================] - 4s 21ms/step - loss: 0.4327 - accuracy: 0.8195 - val_loss: 2.4154 - val_accuracy: 0.2911\n",
      "Epoch 63/100\n",
      "165/168 [============================>.] - ETA: 0s - loss: 0.4360 - accuracy: 0.8098\n",
      "Epoch 00063: accuracy did not improve from 0.81952\n",
      "168/168 [==============================] - 3s 17ms/step - loss: 0.4354 - accuracy: 0.8106 - val_loss: 2.3497 - val_accuracy: 0.2855\n",
      "Epoch 64/100\n",
      "165/168 [============================>.] - ETA: 0s - loss: 0.4258 - accuracy: 0.8142\n",
      "Epoch 00064: accuracy did not improve from 0.81952\n",
      "168/168 [==============================] - 3s 17ms/step - loss: 0.4269 - accuracy: 0.8135 - val_loss: 2.3842 - val_accuracy: 0.2967\n",
      "Epoch 65/100\n",
      "165/168 [============================>.] - ETA: 0s - loss: 0.4198 - accuracy: 0.8242\n",
      "Epoch 00065: accuracy improved from 0.81952 to 0.82400, saving model to ../../data/models/lstm/LSTM_20201205-094352_65.hdf5\n",
      "168/168 [==============================] - 4s 21ms/step - loss: 0.4212 - accuracy: 0.8240 - val_loss: 2.4088 - val_accuracy: 0.3058\n",
      "Epoch 66/100\n",
      "165/168 [============================>.] - ETA: 0s - loss: 0.4155 - accuracy: 0.8242\n",
      "Epoch 00066: accuracy improved from 0.82400 to 0.82493, saving model to ../../data/models/lstm/LSTM_20201205-094352_66.hdf5\n",
      "168/168 [==============================] - 4s 21ms/step - loss: 0.4147 - accuracy: 0.8249 - val_loss: 2.3885 - val_accuracy: 0.3163\n",
      "Epoch 67/100\n",
      "165/168 [============================>.] - ETA: 0s - loss: 0.4069 - accuracy: 0.8256\n",
      "Epoch 00067: accuracy did not improve from 0.82493\n",
      "168/168 [==============================] - 3s 17ms/step - loss: 0.4098 - accuracy: 0.8242 - val_loss: 2.5022 - val_accuracy: 0.3170\n",
      "Epoch 68/100\n",
      "165/168 [============================>.] - ETA: 0s - loss: 0.4118 - accuracy: 0.8242\n",
      "Epoch 00068: accuracy did not improve from 0.82493\n",
      "168/168 [==============================] - 3s 17ms/step - loss: 0.4114 - accuracy: 0.8246 - val_loss: 2.3608 - val_accuracy: 0.3016\n",
      "Epoch 69/100\n",
      "165/168 [============================>.] - ETA: 0s - loss: 0.3914 - accuracy: 0.8301\n",
      "Epoch 00069: accuracy improved from 0.82493 to 0.83053, saving model to ../../data/models/lstm/LSTM_20201205-094352_69.hdf5\n",
      "168/168 [==============================] - 4s 21ms/step - loss: 0.3910 - accuracy: 0.8305 - val_loss: 2.3179 - val_accuracy: 0.3170\n",
      "Epoch 70/100\n",
      "167/168 [============================>.] - ETA: 0s - loss: 0.3970 - accuracy: 0.8301\n",
      "Epoch 00070: accuracy did not improve from 0.83053\n",
      "168/168 [==============================] - 3s 17ms/step - loss: 0.3970 - accuracy: 0.8303 - val_loss: 2.3354 - val_accuracy: 0.3114\n",
      "Epoch 71/100\n",
      "165/168 [============================>.] - ETA: 0s - loss: 0.3918 - accuracy: 0.8386\n",
      "Epoch 00071: accuracy improved from 0.83053 to 0.83819, saving model to ../../data/models/lstm/LSTM_20201205-094352_71.hdf5\n",
      "168/168 [==============================] - 4s 21ms/step - loss: 0.3912 - accuracy: 0.8382 - val_loss: 2.6284 - val_accuracy: 0.3079\n",
      "Epoch 72/100\n",
      "165/168 [============================>.] - ETA: 0s - loss: 0.3871 - accuracy: 0.8381\n",
      "Epoch 00072: accuracy did not improve from 0.83819\n",
      "168/168 [==============================] - 3s 17ms/step - loss: 0.3875 - accuracy: 0.8378 - val_loss: 2.3973 - val_accuracy: 0.3044\n",
      "Epoch 73/100\n",
      "165/168 [============================>.] - ETA: 0s - loss: 0.3816 - accuracy: 0.8392\n",
      "Epoch 00073: accuracy improved from 0.83819 to 0.83949, saving model to ../../data/models/lstm/LSTM_20201205-094352_73.hdf5\n",
      "168/168 [==============================] - 4s 21ms/step - loss: 0.3812 - accuracy: 0.8395 - val_loss: 2.6249 - val_accuracy: 0.3093\n",
      "Epoch 74/100\n",
      "165/168 [============================>.] - ETA: 0s - loss: 0.3859 - accuracy: 0.8350\n",
      "Epoch 00074: accuracy did not improve from 0.83949\n",
      "168/168 [==============================] - 3s 17ms/step - loss: 0.3847 - accuracy: 0.8359 - val_loss: 2.4884 - val_accuracy: 0.3149\n"
     ]
    },
    {
     "name": "stdout",
     "output_type": "stream",
     "text": [
      "Epoch 75/100\n",
      "165/168 [============================>.] - ETA: 0s - loss: 0.3753 - accuracy: 0.8400\n",
      "Epoch 00075: accuracy improved from 0.83949 to 0.84099, saving model to ../../data/models/lstm/LSTM_20201205-094352_75.hdf5\n",
      "168/168 [==============================] - 4s 21ms/step - loss: 0.3746 - accuracy: 0.8410 - val_loss: 2.5335 - val_accuracy: 0.2883\n",
      "Epoch 76/100\n",
      "165/168 [============================>.] - ETA: 0s - loss: 0.3653 - accuracy: 0.8498\n",
      "Epoch 00076: accuracy improved from 0.84099 to 0.85013, saving model to ../../data/models/lstm/LSTM_20201205-094352_76.hdf5\n",
      "168/168 [==============================] - 4s 21ms/step - loss: 0.3648 - accuracy: 0.8501 - val_loss: 2.6851 - val_accuracy: 0.3121\n",
      "Epoch 77/100\n",
      "165/168 [============================>.] - ETA: 0s - loss: 0.3585 - accuracy: 0.8504\n",
      "Epoch 00077: accuracy did not improve from 0.85013\n",
      "168/168 [==============================] - 3s 17ms/step - loss: 0.3586 - accuracy: 0.8499 - val_loss: 2.6011 - val_accuracy: 0.3044\n",
      "Epoch 78/100\n",
      "165/168 [============================>.] - ETA: 0s - loss: 0.3738 - accuracy: 0.8420\n",
      "Epoch 00078: accuracy did not improve from 0.85013\n",
      "168/168 [==============================] - 3s 17ms/step - loss: 0.3737 - accuracy: 0.8421 - val_loss: 2.5009 - val_accuracy: 0.3030\n",
      "Epoch 79/100\n",
      "165/168 [============================>.] - ETA: 0s - loss: 0.3567 - accuracy: 0.8496\n",
      "Epoch 00079: accuracy did not improve from 0.85013\n",
      "168/168 [==============================] - 3s 17ms/step - loss: 0.3570 - accuracy: 0.8494 - val_loss: 2.4327 - val_accuracy: 0.3191\n",
      "Epoch 80/100\n",
      "165/168 [============================>.] - ETA: 0s - loss: 0.3489 - accuracy: 0.8527\n",
      "Epoch 00080: accuracy improved from 0.85013 to 0.85293, saving model to ../../data/models/lstm/LSTM_20201205-094352_80.hdf5\n",
      "168/168 [==============================] - 4s 21ms/step - loss: 0.3484 - accuracy: 0.8529 - val_loss: 2.4693 - val_accuracy: 0.3135\n",
      "Epoch 81/100\n",
      "165/168 [============================>.] - ETA: 0s - loss: 0.3474 - accuracy: 0.8566\n",
      "Epoch 00081: accuracy improved from 0.85293 to 0.85722, saving model to ../../data/models/lstm/LSTM_20201205-094352_81.hdf5\n",
      "168/168 [==============================] - 4s 21ms/step - loss: 0.3477 - accuracy: 0.8572 - val_loss: 2.7691 - val_accuracy: 0.3079\n",
      "Epoch 82/100\n",
      "165/168 [============================>.] - ETA: 0s - loss: 0.3553 - accuracy: 0.8508\n",
      "Epoch 00082: accuracy did not improve from 0.85722\n",
      "168/168 [==============================] - 3s 17ms/step - loss: 0.3545 - accuracy: 0.8511 - val_loss: 2.6989 - val_accuracy: 0.3037\n",
      "Epoch 83/100\n",
      "165/168 [============================>.] - ETA: 0s - loss: 0.3384 - accuracy: 0.8574\n",
      "Epoch 00083: accuracy did not improve from 0.85722\n",
      "168/168 [==============================] - 3s 17ms/step - loss: 0.3400 - accuracy: 0.8557 - val_loss: 2.5973 - val_accuracy: 0.3030\n",
      "Epoch 84/100\n",
      "165/168 [============================>.] - ETA: 0s - loss: 0.3284 - accuracy: 0.8652\n",
      "Epoch 00084: accuracy improved from 0.85722 to 0.86450, saving model to ../../data/models/lstm/LSTM_20201205-094352_84.hdf5\n",
      "168/168 [==============================] - 4s 21ms/step - loss: 0.3299 - accuracy: 0.8645 - val_loss: 2.5979 - val_accuracy: 0.3156\n",
      "Epoch 85/100\n",
      "168/168 [==============================] - ETA: 0s - loss: 0.3342 - accuracy: 0.8641\n",
      "Epoch 00085: accuracy did not improve from 0.86450\n",
      "168/168 [==============================] - 3s 17ms/step - loss: 0.3342 - accuracy: 0.8641 - val_loss: 2.4671 - val_accuracy: 0.3149\n",
      "Epoch 86/100\n",
      "165/168 [============================>.] - ETA: 0s - loss: 0.3440 - accuracy: 0.8581\n",
      "Epoch 00086: accuracy did not improve from 0.86450\n",
      "168/168 [==============================] - 3s 17ms/step - loss: 0.3442 - accuracy: 0.8583 - val_loss: 2.4096 - val_accuracy: 0.3177\n",
      "Epoch 87/100\n",
      "165/168 [============================>.] - ETA: 0s - loss: 0.3336 - accuracy: 0.8593\n",
      "Epoch 00087: accuracy did not improve from 0.86450\n",
      "168/168 [==============================] - 3s 17ms/step - loss: 0.3345 - accuracy: 0.8583 - val_loss: 2.6799 - val_accuracy: 0.3114\n",
      "Epoch 88/100\n",
      "165/168 [============================>.] - ETA: 0s - loss: 0.3198 - accuracy: 0.8670\n",
      "Epoch 00088: accuracy improved from 0.86450 to 0.86618, saving model to ../../data/models/lstm/LSTM_20201205-094352_88.hdf5\n",
      "168/168 [==============================] - 4s 22ms/step - loss: 0.3208 - accuracy: 0.8662 - val_loss: 2.6043 - val_accuracy: 0.3177\n",
      "Epoch 89/100\n",
      "165/168 [============================>.] - ETA: 0s - loss: 0.3242 - accuracy: 0.8629\n",
      "Epoch 00089: accuracy did not improve from 0.86618\n",
      "168/168 [==============================] - 3s 17ms/step - loss: 0.3275 - accuracy: 0.8608 - val_loss: 2.7276 - val_accuracy: 0.3121\n",
      "Epoch 90/100\n",
      "165/168 [============================>.] - ETA: 0s - loss: 0.3178 - accuracy: 0.8657\n",
      "Epoch 00090: accuracy did not improve from 0.86618\n",
      "168/168 [==============================] - 3s 17ms/step - loss: 0.3180 - accuracy: 0.8654 - val_loss: 2.7916 - val_accuracy: 0.3198\n",
      "Epoch 91/100\n",
      "165/168 [============================>.] - ETA: 0s - loss: 0.3203 - accuracy: 0.8629\n",
      "Epoch 00091: accuracy did not improve from 0.86618\n",
      "168/168 [==============================] - 3s 17ms/step - loss: 0.3215 - accuracy: 0.8628 - val_loss: 2.7435 - val_accuracy: 0.3128\n",
      "Epoch 92/100\n",
      "165/168 [============================>.] - ETA: 0s - loss: 0.3103 - accuracy: 0.8686\n",
      "Epoch 00092: accuracy improved from 0.86618 to 0.86935, saving model to ../../data/models/lstm/LSTM_20201205-094352_92.hdf5\n",
      "168/168 [==============================] - 4s 22ms/step - loss: 0.3095 - accuracy: 0.8694 - val_loss: 2.8361 - val_accuracy: 0.3135\n",
      "Epoch 93/100\n",
      "165/168 [============================>.] - ETA: 0s - loss: 0.3069 - accuracy: 0.8701\n",
      "Epoch 00093: accuracy improved from 0.86935 to 0.87010, saving model to ../../data/models/lstm/LSTM_20201205-094352_93.hdf5\n",
      "168/168 [==============================] - 4s 22ms/step - loss: 0.3073 - accuracy: 0.8701 - val_loss: 2.6991 - val_accuracy: 0.3163\n",
      "Epoch 94/100\n",
      "168/168 [==============================] - ETA: 0s - loss: 0.3004 - accuracy: 0.8783\n",
      "Epoch 00094: accuracy improved from 0.87010 to 0.87831, saving model to ../../data/models/lstm/LSTM_20201205-094352_94.hdf5\n",
      "168/168 [==============================] - 4s 22ms/step - loss: 0.3004 - accuracy: 0.8783 - val_loss: 2.8641 - val_accuracy: 0.3086\n",
      "Epoch 95/100\n",
      "165/168 [============================>.] - ETA: 0s - loss: 0.3045 - accuracy: 0.8744\n",
      "Epoch 00095: accuracy did not improve from 0.87831\n",
      "168/168 [==============================] - 3s 17ms/step - loss: 0.3052 - accuracy: 0.8738 - val_loss: 2.6249 - val_accuracy: 0.3128\n",
      "Epoch 96/100\n",
      "165/168 [============================>.] - ETA: 0s - loss: 0.2874 - accuracy: 0.8805\n",
      "Epoch 00096: accuracy improved from 0.87831 to 0.88055, saving model to ../../data/models/lstm/LSTM_20201205-094352_96.hdf5\n",
      "168/168 [==============================] - 4s 22ms/step - loss: 0.2872 - accuracy: 0.8806 - val_loss: 2.6600 - val_accuracy: 0.3170\n",
      "Epoch 97/100\n",
      "165/168 [============================>.] - ETA: 0s - loss: 0.2898 - accuracy: 0.8835\n",
      "Epoch 00097: accuracy improved from 0.88055 to 0.88354, saving model to ../../data/models/lstm/LSTM_20201205-094352_97.hdf5\n",
      "168/168 [==============================] - 4s 21ms/step - loss: 0.2902 - accuracy: 0.8835 - val_loss: 2.7136 - val_accuracy: 0.3107\n",
      "Epoch 98/100\n",
      "165/168 [============================>.] - ETA: 0s - loss: 0.2986 - accuracy: 0.8742\n",
      "Epoch 00098: accuracy did not improve from 0.88354\n",
      "168/168 [==============================] - 3s 17ms/step - loss: 0.2983 - accuracy: 0.8740 - val_loss: 2.7565 - val_accuracy: 0.3002\n",
      "Epoch 99/100\n",
      "165/168 [============================>.] - ETA: 0s - loss: 0.3017 - accuracy: 0.8695\n",
      "Epoch 00099: accuracy did not improve from 0.88354\n",
      "168/168 [==============================] - 3s 17ms/step - loss: 0.3014 - accuracy: 0.8697 - val_loss: 2.7631 - val_accuracy: 0.3093\n",
      "Epoch 100/100\n",
      "165/168 [============================>.] - ETA: 0s - loss: 0.2877 - accuracy: 0.8769\n",
      "Epoch 00100: accuracy did not improve from 0.88354\n",
      "168/168 [==============================] - 3s 17ms/step - loss: 0.2882 - accuracy: 0.8764 - val_loss: 2.6104 - val_accuracy: 0.3128\n"
     ]
    }
   ],
   "source": [
    "history = model.fit(X_train,\n",
    "          y_train,\n",
    "          batch_size=batch_size,\n",
    "          validation_data=(X_val, y_val),\n",
    "          verbose=1,\n",
    "          callbacks=callbacks,\n",
    "          epochs=epochs)"
   ]
  },
  {
   "cell_type": "code",
   "execution_count": 53,
   "metadata": {},
   "outputs": [
    {
     "name": "stdout",
     "output_type": "stream",
     "text": [
      "dict_keys(['loss', 'accuracy', 'val_loss', 'val_accuracy'])\n"
     ]
    },
    {
     "data": {
      "image/png": "[encoded data removed]",
      "text/plain": [
       "<Figure size 432x288 with 1 Axes>"
      ]
     },
     "metadata": {
      "needs_background": "light"
     },
     "output_type": "display_data"
    }
   ],
   "source": [
    "# Show graphs\n",
    "print(history.history.keys())\n",
    "\n",
    "plt.plot(history.history['loss'])\n",
    "plt.plot(history.history['val_loss'])\n",
    "plt.title('model loss')\n",
    "plt.ylabel('loss')\n",
    "plt.xlabel('epoch')\n",
    "plt.legend(['train', 'val'], loc='upper left')\n",
    "plt.show()"
   ]
  },
  {
   "cell_type": "code",
   "execution_count": 54,
   "metadata": {},
   "outputs": [
    {
     "name": "stdout",
     "output_type": "stream",
     "text": [
      "dict_keys(['loss', 'accuracy', 'val_loss', 'val_accuracy'])\n"
     ]
    },
    {
     "data": {
      "image/png": "[encoded data removed]",
      "text/plain": [
       "<Figure size 432x288 with 1 Axes>"
      ]
     },
     "metadata": {
      "needs_background": "light"
     },
     "output_type": "display_data"
    }
   ],
   "source": [
    "# Show graphs\n",
    "print(history.history.keys())\n",
    "\n",
    "plt.plot(history.history['accuracy'])\n",
    "plt.plot(history.history['val_accuracy'])\n",
    "plt.title('model accuracy')\n",
    "plt.ylabel('accuracy')\n",
    "plt.xlabel('epoch')\n",
    "plt.legend(['train', 'val'], loc='upper left')\n",
    "plt.show()"
   ]
  },
  {
   "cell_type": "code",
   "execution_count": 55,
   "metadata": {},
   "outputs": [
    {
     "name": "stdout",
     "output_type": "stream",
     "text": [
      "(1784, 20, 1280) (1784, 4)\n"
     ]
    }
   ],
   "source": [
    "# Get features\n",
    "X_test = np.load(features_dir + 'test_features.npy') \n",
    "y_test = np.load(features_dir + 'test_labels.npy') \n",
    "X_test = X_test.reshape(int(X_test.shape[0]/20), 20, 1280)\n",
    "y_test = y_test[1::20]\n",
    "y_test = to_categorical(y_test, num_classes=4)\n",
    "print(X_test.shape, y_test.shape)"
   ]
  },
  {
   "cell_type": "code",
   "execution_count": 56,
   "metadata": {},
   "outputs": [
    {
     "name": "stdout",
     "output_type": "stream",
     "text": [
      "56/56 [==============================] - 0s 7ms/step - loss: 1.9603 - accuracy: 0.3823\n",
      "test acc: 0.38228699564933777\n"
     ]
    }
   ],
   "source": [
    "test_loss, test_acc = model.evaluate(X_test, y_test)\n",
    "print('test acc:', test_acc)"
   ]
  },
  {
   "cell_type": "code",
   "execution_count": 57,
   "metadata": {},
   "outputs": [],
   "source": [
    "predictions = model.predict(X_test)"
   ]
  },
  {
   "cell_type": "code",
   "execution_count": 58,
   "metadata": {},
   "outputs": [],
   "source": [
    "y_pred = np.argmax(predictions, axis = 1)\n",
    "y_test = np.argmax(y_test, axis = 1)"
   ]
  },
  {
   "cell_type": "code",
   "execution_count": 59,
   "metadata": {},
   "outputs": [
    {
     "name": "stdout",
     "output_type": "stream",
     "text": [
      "             precision    recall  f1-score   support\n",
      "\n",
      "          0       0.47      0.51      0.49       823\n",
      "          1       0.33      0.39      0.35       584\n",
      "          2       0.21      0.10      0.14       338\n",
      "          3       0.00      0.00      0.00        39\n",
      "\n",
      "avg / total       0.36      0.38      0.37      1784\n",
      "\n"
     ]
    }
   ],
   "source": [
    "# print the report\n",
    "print(classification_report(y_test, y_pred))"
   ]
  },
  {
   "cell_type": "code",
   "execution_count": 60,
   "metadata": {},
   "outputs": [
    {
     "data": {
      "image/png": "[encoded data removed]",
      "text/plain": [
       "<Figure size 432x288 with 2 Axes>"
      ]
     },
     "metadata": {
      "needs_background": "light"
     },
     "output_type": "display_data"
    }
   ],
   "source": [
    "class_labels = [0,1,2,3]\n",
    "cm = confusion_matrix(y_test, y_pred, class_labels)\n",
    "\n",
    "ax= plt.subplot()\n",
    "sns.heatmap(cm, annot=True, ax = ax, fmt='g', cmap='Greens'); #annot=True to annotate cells\n",
    "\n",
    "# labels, title and ticks\n",
    "ax.set_xlabel('Predicted labels');ax.set_ylabel('True labels'); \n",
    "ax.set_title('Confusion Matrix'); \n",
    "ax.xaxis.set_ticklabels(class_labels); ax.yaxis.set_ticklabels(class_labels);"
   ]
  },
  {
   "cell_type": "code",
   "execution_count": null,
   "metadata": {},
   "outputs": [],
   "source": []
  },
  {
   "cell_type": "code",
   "execution_count": null,
   "metadata": {},
   "outputs": [],
   "source": []
  },
  {
   "cell_type": "code",
   "execution_count": null,
   "metadata": {},
   "outputs": [],
   "source": []
  }
 ],
 "metadata": {
  "kernelspec": {
   "display_name": "Python 3",
   "language": "python",
   "name": "python3"
  },
  "language_info": {
   "codemirror_mode": {
    "name": "ipython",
    "version": 3
   },
   "file_extension": ".py",
   "mimetype": "text/x-python",
   "name": "python",
   "nbconvert_exporter": "python",
   "pygments_lexer": "ipython3",
   "version": "3.7.6"
  }
 },
 "nbformat": 4,
 "nbformat_minor": 2
}
