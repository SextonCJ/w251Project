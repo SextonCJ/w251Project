{
 "cells": [
  {
   "cell_type": "code",
   "execution_count": 1,
   "metadata": {},
   "outputs": [],
   "source": [
    "import warnings\n",
    "warnings.filterwarnings('ignore')\n",
    "\n",
    "import os\n",
    "from matplotlib import pyplot as plt\n",
    "%matplotlib inline\n",
    "import seaborn as sns\n",
    "import numpy as np\n",
    "import time\n",
    "\n",
    "from PIL import Image\n",
    "from sklearn.metrics import confusion_matrix,classification_report\n",
    "\n",
    "from keras.layers import Dense, ConvLSTM2D, Dropout, Flatten\n",
    "from keras.utils import to_categorical\n",
    "from keras import Sequential\n",
    "from keras.callbacks import ModelCheckpoint, EarlyStopping\n",
    "from keras.optimizers import Adam, RMSprop\n",
    "\n",
    "import tensorflow as tf"
   ]
  },
  {
   "cell_type": "code",
   "execution_count": 2,
   "metadata": {},
   "outputs": [],
   "source": [
    "fps = '2FPS'\n",
    "numpy_dir = '../../data/DAiSEE/' + fps + '/data/' \n",
    "usage = ['Train', 'Test', 'Validation']\n",
    "model_dir = '../../data/models/convLSTM/'"
   ]
  },
  {
   "cell_type": "code",
   "execution_count": 3,
   "metadata": {},
   "outputs": [
    {
     "name": "stdout",
     "output_type": "stream",
     "text": [
      "(107160, 160, 160, 3) (107160, 4)\n",
      "(28580, 160, 160, 3) (28580, 4)\n"
     ]
    }
   ],
   "source": [
    "# Get image files\n",
    "x_train = np.load(numpy_dir + 'X_train_img.npy', allow_pickle=True) \n",
    "x_val = np.load(numpy_dir + 'X_val_img.npy', allow_pickle=True) \n",
    "\n",
    "# Get y labels\n",
    "y_train = np.load(numpy_dir + 'y_cat_train.npy', allow_pickle=True) \n",
    "y_val = np.load(numpy_dir + 'y_cat_val.npy', allow_pickle=True) \n",
    "\n",
    "print(x_train.shape, y_train.shape)\n",
    "print(x_val.shape, y_val.shape)"
   ]
  },
  {
   "cell_type": "code",
   "execution_count": 4,
   "metadata": {},
   "outputs": [
    {
     "name": "stdout",
     "output_type": "stream",
     "text": [
      "(5358, 20, 160, 160, 3) (5358, 4)\n",
      "(1429, 20, 160, 160, 3) (1429, 4)\n"
     ]
    }
   ],
   "source": [
    "# Reshape to get sequences together\n",
    "x_train = x_train.reshape(int(x_train.shape[0]/20), 20, 160, 160, 3)\n",
    "x_val = x_val.reshape(int(x_val.shape[0]/20), 20, 160, 160, 3)\n",
    "\n",
    "y_train = y_train[1::20]\n",
    "y_val = y_val[1::20]\n",
    "\n",
    "print(x_train.shape, y_train.shape)\n",
    "print(x_val.shape, y_val.shape)"
   ]
  },
  {
   "cell_type": "code",
   "execution_count": 5,
   "metadata": {},
   "outputs": [
    {
     "name": "stdout",
     "output_type": "stream",
     "text": [
      "1 Physical GPUs, 1 Logical GPUs\n"
     ]
    }
   ],
   "source": [
    "# Setup the GPU\n",
    "gpus = tf.config.experimental.list_physical_devices('GPU')\n",
    "if gpus:\n",
    "  # Restrict TensorFlow to only allocate 1GB of memory on the first GPU\n",
    "    try:\n",
    "        tf.config.experimental.set_virtual_device_configuration(\n",
    "            gpus[0],\n",
    "            [tf.config.experimental.VirtualDeviceConfiguration(memory_limit=16000)])\n",
    "        logical_gpus = tf.config.experimental.list_logical_devices('GPU')\n",
    "        print(len(gpus), \"Physical GPUs,\", len(logical_gpus), \"Logical GPUs\")\n",
    "    except RuntimeError as e:\n",
    "        # Virtual devices must be set before GPUs have been initialized\n",
    "        print(e)\n"
   ]
  },
  {
   "cell_type": "code",
   "execution_count": 6,
   "metadata": {},
   "outputs": [
    {
     "name": "stdout",
     "output_type": "stream",
     "text": [
      "Model: \"sequential\"\n",
      "_________________________________________________________________\n",
      "Layer (type)                 Output Shape              Param #   \n",
      "=================================================================\n",
      "conv_lst_m2d (ConvLSTM2D)    (None, 158, 158, 16)      11008     \n",
      "_________________________________________________________________\n",
      "dropout (Dropout)            (None, 158, 158, 16)      0         \n",
      "_________________________________________________________________\n",
      "flatten (Flatten)            (None, 399424)            0         \n",
      "_________________________________________________________________\n",
      "dense (Dense)                (None, 256)               102252800 \n",
      "_________________________________________________________________\n",
      "dropout_1 (Dropout)          (None, 256)               0         \n",
      "_________________________________________________________________\n",
      "dense_1 (Dense)              (None, 4)                 1028      \n",
      "=================================================================\n",
      "Total params: 102,264,836\n",
      "Trainable params: 102,264,836\n",
      "Non-trainable params: 0\n",
      "_________________________________________________________________\n"
     ]
    }
   ],
   "source": [
    "#################\n",
    "# CNN-LSTM.     # \n",
    "#################\n",
    "\n",
    "lr = 0.0001\n",
    "decay = 1e-6\n",
    "\n",
    "img_height , img_width = 160, 160\n",
    "seq_len = 20\n",
    "  \n",
    "model = Sequential()\n",
    "model.add(ConvLSTM2D(filters = 16, kernel_size = (3, 3), return_sequences = False, data_format = \"channels_last\", input_shape = (seq_len, img_height, img_width, 3)))\n",
    "model.add(Dropout(0.2))\n",
    "model.add(Flatten())\n",
    "model.add(Dense(256, activation=\"relu\"))\n",
    "model.add(Dropout(0.3))\n",
    "model.add(Dense(4, activation = \"softmax\"))\n",
    " \n",
    "model.summary()\n",
    "\n",
    "# checkpoint callback\n",
    "timestr = time.strftime(\"%Y%m%d-%H%M%S\")\n",
    "best_model_file = model_dir + 'ConvLSTM2D' + timestr + '_{epoch}.hdf5'\n",
    "checkpoint = ModelCheckpoint(best_model_file,\n",
    "                             monitor='accuracy',\n",
    "                             verbose=1,\n",
    "                             save_best_only=True,\n",
    "                             mode='max')\n",
    "\n",
    "# early stopping callback\n",
    "#early_stopping = EarlyStopping(monitor='val_loss', patience=4, verbose=1, mode='auto')   \n",
    "early_stopping = EarlyStopping(monitor='accuracy', patience=4, verbose=1, mode='auto') \n",
    "\n",
    "callbacks = [checkpoint, early_stopping]\n",
    "\n",
    "model.compile(optimizer=Adam(lr=lr, decay=decay),\n",
    "              loss=\"categorical_crossentropy\",\n",
    "              metrics =[\"accuracy\"])"
   ]
  },
  {
   "cell_type": "code",
   "execution_count": 7,
   "metadata": {},
   "outputs": [
    {
     "name": "stdout",
     "output_type": "stream",
     "text": [
      "Epoch 1/100\n",
      "335/335 [==============================] - ETA: 0s - loss: 1.7156 - accuracy: 0.4188\n",
      "Epoch 00001: accuracy improved from -inf to 0.41881, saving model to ../../data/models/convLSTM/ConvLSTM2D20201205-112215_1.hdf5\n",
      "335/335 [==============================] - 105s 314ms/step - loss: 1.7156 - accuracy: 0.4188 - val_loss: 1.3587 - val_accuracy: 0.3121\n",
      "Epoch 2/100\n",
      "335/335 [==============================] - ETA: 0s - loss: 1.1414 - accuracy: 0.4343\n",
      "Epoch 00002: accuracy improved from 0.41881 to 0.43430, saving model to ../../data/models/convLSTM/ConvLSTM2D20201205-112215_2.hdf5\n",
      "335/335 [==============================] - 103s 309ms/step - loss: 1.1414 - accuracy: 0.4343 - val_loss: 1.3195 - val_accuracy: 0.2547\n",
      "Epoch 3/100\n",
      "335/335 [==============================] - ETA: 0s - loss: 1.0978 - accuracy: 0.4420\n",
      "Epoch 00003: accuracy improved from 0.43430 to 0.44196, saving model to ../../data/models/convLSTM/ConvLSTM2D20201205-112215_3.hdf5\n",
      "335/335 [==============================] - 103s 309ms/step - loss: 1.0978 - accuracy: 0.4420 - val_loss: 1.3328 - val_accuracy: 0.2610\n",
      "Epoch 4/100\n",
      "335/335 [==============================] - ETA: 0s - loss: 1.0871 - accuracy: 0.4602\n",
      "Epoch 00004: accuracy improved from 0.44196 to 0.46025, saving model to ../../data/models/convLSTM/ConvLSTM2D20201205-112215_4.hdf5\n",
      "335/335 [==============================] - 104s 309ms/step - loss: 1.0871 - accuracy: 0.4602 - val_loss: 1.5320 - val_accuracy: 0.2722\n",
      "Epoch 5/100\n",
      "335/335 [==============================] - ETA: 0s - loss: 1.0788 - accuracy: 0.4808\n",
      "Epoch 00005: accuracy improved from 0.46025 to 0.48078, saving model to ../../data/models/convLSTM/ConvLSTM2D20201205-112215_5.hdf5\n",
      "335/335 [==============================] - 103s 307ms/step - loss: 1.0788 - accuracy: 0.4808 - val_loss: 1.5934 - val_accuracy: 0.2925\n",
      "Epoch 6/100\n",
      "335/335 [==============================] - ETA: 0s - loss: 1.0468 - accuracy: 0.5045\n",
      "Epoch 00006: accuracy improved from 0.48078 to 0.50448, saving model to ../../data/models/convLSTM/ConvLSTM2D20201205-112215_6.hdf5\n",
      "335/335 [==============================] - 104s 309ms/step - loss: 1.0468 - accuracy: 0.5045 - val_loss: 1.7962 - val_accuracy: 0.2995\n",
      "Epoch 7/100\n",
      "335/335 [==============================] - ETA: 0s - loss: 0.9887 - accuracy: 0.5306\n",
      "Epoch 00007: accuracy improved from 0.50448 to 0.53061, saving model to ../../data/models/convLSTM/ConvLSTM2D20201205-112215_7.hdf5\n",
      "335/335 [==============================] - 103s 309ms/step - loss: 0.9887 - accuracy: 0.5306 - val_loss: 1.7079 - val_accuracy: 0.3051\n",
      "Epoch 8/100\n",
      "335/335 [==============================] - ETA: 0s - loss: 0.9441 - accuracy: 0.5612\n",
      "Epoch 00008: accuracy improved from 0.53061 to 0.56122, saving model to ../../data/models/convLSTM/ConvLSTM2D20201205-112215_8.hdf5\n",
      "335/335 [==============================] - 103s 309ms/step - loss: 0.9441 - accuracy: 0.5612 - val_loss: 1.8995 - val_accuracy: 0.3142\n",
      "Epoch 9/100\n",
      "335/335 [==============================] - ETA: 0s - loss: 0.9010 - accuracy: 0.5817\n",
      "Epoch 00009: accuracy improved from 0.56122 to 0.58175, saving model to ../../data/models/convLSTM/ConvLSTM2D20201205-112215_9.hdf5\n",
      "335/335 [==============================] - 104s 311ms/step - loss: 0.9010 - accuracy: 0.5817 - val_loss: 2.0584 - val_accuracy: 0.3051\n",
      "Epoch 10/100\n",
      "335/335 [==============================] - ETA: 0s - loss: 0.8395 - accuracy: 0.6161\n",
      "Epoch 00010: accuracy improved from 0.58175 to 0.61609, saving model to ../../data/models/convLSTM/ConvLSTM2D20201205-112215_10.hdf5\n",
      "335/335 [==============================] - 104s 311ms/step - loss: 0.8395 - accuracy: 0.6161 - val_loss: 2.0719 - val_accuracy: 0.3121\n",
      "Epoch 11/100\n",
      "335/335 [==============================] - ETA: 0s - loss: 0.7991 - accuracy: 0.6489\n",
      "Epoch 00011: accuracy improved from 0.61609 to 0.64894, saving model to ../../data/models/convLSTM/ConvLSTM2D20201205-112215_11.hdf5\n",
      "335/335 [==============================] - 104s 310ms/step - loss: 0.7991 - accuracy: 0.6489 - val_loss: 2.0684 - val_accuracy: 0.3247\n",
      "Epoch 12/100\n",
      "335/335 [==============================] - ETA: 0s - loss: 0.7623 - accuracy: 0.6506\n",
      "Epoch 00012: accuracy improved from 0.64894 to 0.65062, saving model to ../../data/models/convLSTM/ConvLSTM2D20201205-112215_12.hdf5\n",
      "335/335 [==============================] - 103s 308ms/step - loss: 0.7623 - accuracy: 0.6506 - val_loss: 2.3438 - val_accuracy: 0.3065\n",
      "Epoch 13/100\n",
      "335/335 [==============================] - ETA: 0s - loss: 0.7262 - accuracy: 0.6704\n",
      "Epoch 00013: accuracy improved from 0.65062 to 0.67040, saving model to ../../data/models/convLSTM/ConvLSTM2D20201205-112215_13.hdf5\n",
      "335/335 [==============================] - 103s 308ms/step - loss: 0.7262 - accuracy: 0.6704 - val_loss: 2.2603 - val_accuracy: 0.3275\n",
      "Epoch 14/100\n",
      "335/335 [==============================] - ETA: 0s - loss: 0.6655 - accuracy: 0.7066\n",
      "Epoch 00014: accuracy improved from 0.67040 to 0.70661, saving model to ../../data/models/convLSTM/ConvLSTM2D20201205-112215_14.hdf5\n",
      "335/335 [==============================] - 103s 308ms/step - loss: 0.6655 - accuracy: 0.7066 - val_loss: 2.5124 - val_accuracy: 0.3142\n",
      "Epoch 15/100\n",
      "335/335 [==============================] - ETA: 0s - loss: 0.6486 - accuracy: 0.7083\n",
      "Epoch 00015: accuracy improved from 0.70661 to 0.70829, saving model to ../../data/models/convLSTM/ConvLSTM2D20201205-112215_15.hdf5\n",
      "335/335 [==============================] - 103s 308ms/step - loss: 0.6486 - accuracy: 0.7083 - val_loss: 2.8798 - val_accuracy: 0.3177\n",
      "Epoch 16/100\n",
      "335/335 [==============================] - ETA: 0s - loss: 0.5889 - accuracy: 0.7353\n",
      "Epoch 00016: accuracy improved from 0.70829 to 0.73535, saving model to ../../data/models/convLSTM/ConvLSTM2D20201205-112215_16.hdf5\n",
      "335/335 [==============================] - 103s 309ms/step - loss: 0.5889 - accuracy: 0.7353 - val_loss: 2.8568 - val_accuracy: 0.3296\n",
      "Epoch 17/100\n",
      "335/335 [==============================] - ETA: 0s - loss: 0.5456 - accuracy: 0.7591\n",
      "Epoch 00017: accuracy improved from 0.73535 to 0.75905, saving model to ../../data/models/convLSTM/ConvLSTM2D20201205-112215_17.hdf5\n",
      "335/335 [==============================] - 104s 310ms/step - loss: 0.5456 - accuracy: 0.7591 - val_loss: 2.5196 - val_accuracy: 0.3352\n",
      "Epoch 18/100\n",
      "335/335 [==============================] - ETA: 0s - loss: 0.5159 - accuracy: 0.7801\n",
      "Epoch 00018: accuracy improved from 0.75905 to 0.78014, saving model to ../../data/models/convLSTM/ConvLSTM2D20201205-112215_18.hdf5\n",
      "335/335 [==============================] - 103s 308ms/step - loss: 0.5159 - accuracy: 0.7801 - val_loss: 2.6157 - val_accuracy: 0.3513\n",
      "Epoch 19/100\n",
      "335/335 [==============================] - ETA: 0s - loss: 0.4712 - accuracy: 0.7990\n",
      "Epoch 00019: accuracy improved from 0.78014 to 0.79899, saving model to ../../data/models/convLSTM/ConvLSTM2D20201205-112215_19.hdf5\n",
      "335/335 [==============================] - 103s 309ms/step - loss: 0.4712 - accuracy: 0.7990 - val_loss: 3.0796 - val_accuracy: 0.3219\n",
      "Epoch 20/100\n",
      "335/335 [==============================] - ETA: 0s - loss: 0.4528 - accuracy: 0.8010\n",
      "Epoch 00020: accuracy improved from 0.79899 to 0.80105, saving model to ../../data/models/convLSTM/ConvLSTM2D20201205-112215_20.hdf5\n",
      "335/335 [==============================] - 103s 308ms/step - loss: 0.4528 - accuracy: 0.8010 - val_loss: 2.7883 - val_accuracy: 0.3233\n",
      "Epoch 21/100\n",
      "335/335 [==============================] - ETA: 0s - loss: 0.4458 - accuracy: 0.8085\n",
      "Epoch 00021: accuracy improved from 0.80105 to 0.80851, saving model to ../../data/models/convLSTM/ConvLSTM2D20201205-112215_21.hdf5\n",
      "335/335 [==============================] - 103s 309ms/step - loss: 0.4458 - accuracy: 0.8085 - val_loss: 3.4148 - val_accuracy: 0.3212\n",
      "Epoch 22/100\n",
      "335/335 [==============================] - ETA: 0s - loss: 0.4076 - accuracy: 0.8231\n",
      "Epoch 00022: accuracy improved from 0.80851 to 0.82307, saving model to ../../data/models/convLSTM/ConvLSTM2D20201205-112215_22.hdf5\n",
      "335/335 [==============================] - 103s 308ms/step - loss: 0.4076 - accuracy: 0.8231 - val_loss: 3.0547 - val_accuracy: 0.3317\n",
      "Epoch 23/100\n",
      "335/335 [==============================] - ETA: 0s - loss: 0.3917 - accuracy: 0.8343\n",
      "Epoch 00023: accuracy improved from 0.82307 to 0.83427, saving model to ../../data/models/convLSTM/ConvLSTM2D20201205-112215_23.hdf5\n"
     ]
    },
    {
     "name": "stdout",
     "output_type": "stream",
     "text": [
      "335/335 [==============================] - 103s 309ms/step - loss: 0.3917 - accuracy: 0.8343 - val_loss: 3.6537 - val_accuracy: 0.3191\n",
      "Epoch 24/100\n",
      "335/335 [==============================] - ETA: 0s - loss: 0.3805 - accuracy: 0.8320\n",
      "Epoch 00024: accuracy did not improve from 0.83427\n",
      "335/335 [==============================] - 101s 300ms/step - loss: 0.3805 - accuracy: 0.8320 - val_loss: 3.8299 - val_accuracy: 0.3177\n",
      "Epoch 25/100\n",
      "335/335 [==============================] - ETA: 0s - loss: 0.3474 - accuracy: 0.8527\n",
      "Epoch 00025: accuracy improved from 0.83427 to 0.85274, saving model to ../../data/models/convLSTM/ConvLSTM2D20201205-112215_25.hdf5\n",
      "335/335 [==============================] - 103s 309ms/step - loss: 0.3474 - accuracy: 0.8527 - val_loss: 3.7443 - val_accuracy: 0.3163\n",
      "Epoch 26/100\n",
      "335/335 [==============================] - ETA: 0s - loss: 0.3393 - accuracy: 0.8550\n",
      "Epoch 00026: accuracy improved from 0.85274 to 0.85498, saving model to ../../data/models/convLSTM/ConvLSTM2D20201205-112215_26.hdf5\n",
      "335/335 [==============================] - 103s 308ms/step - loss: 0.3393 - accuracy: 0.8550 - val_loss: 3.7108 - val_accuracy: 0.3198\n",
      "Epoch 27/100\n",
      "335/335 [==============================] - ETA: 0s - loss: 0.3090 - accuracy: 0.8695\n",
      "Epoch 00027: accuracy improved from 0.85498 to 0.86954, saving model to ../../data/models/convLSTM/ConvLSTM2D20201205-112215_27.hdf5\n",
      "335/335 [==============================] - 104s 311ms/step - loss: 0.3090 - accuracy: 0.8695 - val_loss: 3.4206 - val_accuracy: 0.3121\n",
      "Epoch 28/100\n",
      "335/335 [==============================] - ETA: 0s - loss: 0.2944 - accuracy: 0.8779\n",
      "Epoch 00028: accuracy improved from 0.86954 to 0.87794, saving model to ../../data/models/convLSTM/ConvLSTM2D20201205-112215_28.hdf5\n",
      "335/335 [==============================] - 103s 309ms/step - loss: 0.2944 - accuracy: 0.8779 - val_loss: 4.2459 - val_accuracy: 0.3135\n",
      "Epoch 29/100\n",
      "335/335 [==============================] - ETA: 0s - loss: 0.2826 - accuracy: 0.8837\n",
      "Epoch 00029: accuracy improved from 0.87794 to 0.88373, saving model to ../../data/models/convLSTM/ConvLSTM2D20201205-112215_29.hdf5\n",
      "335/335 [==============================] - 103s 309ms/step - loss: 0.2826 - accuracy: 0.8837 - val_loss: 3.9542 - val_accuracy: 0.3275\n",
      "Epoch 30/100\n",
      "335/335 [==============================] - ETA: 0s - loss: 0.2625 - accuracy: 0.8867\n",
      "Epoch 00030: accuracy improved from 0.88373 to 0.88671, saving model to ../../data/models/convLSTM/ConvLSTM2D20201205-112215_30.hdf5\n",
      "335/335 [==============================] - 104s 309ms/step - loss: 0.2625 - accuracy: 0.8867 - val_loss: 4.1894 - val_accuracy: 0.3156\n",
      "Epoch 31/100\n",
      "335/335 [==============================] - ETA: 0s - loss: 0.2662 - accuracy: 0.8875\n",
      "Epoch 00031: accuracy improved from 0.88671 to 0.88746, saving model to ../../data/models/convLSTM/ConvLSTM2D20201205-112215_31.hdf5\n",
      "335/335 [==============================] - 104s 311ms/step - loss: 0.2662 - accuracy: 0.8875 - val_loss: 3.4409 - val_accuracy: 0.3191\n",
      "Epoch 32/100\n",
      "335/335 [==============================] - ETA: 0s - loss: 0.2648 - accuracy: 0.8845\n",
      "Epoch 00032: accuracy did not improve from 0.88746\n",
      "335/335 [==============================] - 100s 300ms/step - loss: 0.2648 - accuracy: 0.8845 - val_loss: 4.0306 - val_accuracy: 0.3163\n",
      "Epoch 33/100\n",
      "335/335 [==============================] - ETA: 0s - loss: 0.2401 - accuracy: 0.8940\n",
      "Epoch 00033: accuracy improved from 0.88746 to 0.89399, saving model to ../../data/models/convLSTM/ConvLSTM2D20201205-112215_33.hdf5\n",
      "335/335 [==============================] - 103s 309ms/step - loss: 0.2401 - accuracy: 0.8940 - val_loss: 3.9540 - val_accuracy: 0.3163\n",
      "Epoch 34/100\n",
      "335/335 [==============================] - ETA: 0s - loss: 0.2242 - accuracy: 0.9057\n",
      "Epoch 00034: accuracy improved from 0.89399 to 0.90575, saving model to ../../data/models/convLSTM/ConvLSTM2D20201205-112215_34.hdf5\n",
      "335/335 [==============================] - 103s 309ms/step - loss: 0.2242 - accuracy: 0.9057 - val_loss: 4.4854 - val_accuracy: 0.3163\n",
      "Epoch 35/100\n",
      "335/335 [==============================] - ETA: 0s - loss: 0.2332 - accuracy: 0.8985\n",
      "Epoch 00035: accuracy did not improve from 0.90575\n",
      "335/335 [==============================] - 100s 300ms/step - loss: 0.2332 - accuracy: 0.8985 - val_loss: 3.6957 - val_accuracy: 0.3429\n",
      "Epoch 36/100\n",
      "335/335 [==============================] - ETA: 0s - loss: 0.2171 - accuracy: 0.9117\n",
      "Epoch 00036: accuracy improved from 0.90575 to 0.91172, saving model to ../../data/models/convLSTM/ConvLSTM2D20201205-112215_36.hdf5\n",
      "335/335 [==============================] - 103s 309ms/step - loss: 0.2171 - accuracy: 0.9117 - val_loss: 4.2888 - val_accuracy: 0.3016\n",
      "Epoch 37/100\n",
      "335/335 [==============================] - ETA: 0s - loss: 0.2135 - accuracy: 0.9093\n",
      "Epoch 00037: accuracy did not improve from 0.91172\n",
      "335/335 [==============================] - 100s 300ms/step - loss: 0.2135 - accuracy: 0.9093 - val_loss: 4.2689 - val_accuracy: 0.3156\n",
      "Epoch 38/100\n",
      "335/335 [==============================] - ETA: 0s - loss: 0.2106 - accuracy: 0.9112\n",
      "Epoch 00038: accuracy did not improve from 0.91172\n",
      "335/335 [==============================] - 100s 300ms/step - loss: 0.2106 - accuracy: 0.9112 - val_loss: 4.4034 - val_accuracy: 0.3198\n",
      "Epoch 39/100\n",
      "335/335 [==============================] - ETA: 0s - loss: 0.2028 - accuracy: 0.9110\n",
      "Epoch 00039: accuracy did not improve from 0.91172\n",
      "335/335 [==============================] - 100s 299ms/step - loss: 0.2028 - accuracy: 0.9110 - val_loss: 3.6748 - val_accuracy: 0.3345\n",
      "Epoch 40/100\n",
      "335/335 [==============================] - ETA: 0s - loss: 0.1982 - accuracy: 0.9149\n",
      "Epoch 00040: accuracy improved from 0.91172 to 0.91489, saving model to ../../data/models/convLSTM/ConvLSTM2D20201205-112215_40.hdf5\n",
      "335/335 [==============================] - 103s 308ms/step - loss: 0.1982 - accuracy: 0.9149 - val_loss: 3.8747 - val_accuracy: 0.3345\n",
      "Epoch 41/100\n",
      "335/335 [==============================] - ETA: 0s - loss: 0.1773 - accuracy: 0.9220\n",
      "Epoch 00041: accuracy improved from 0.91489 to 0.92199, saving model to ../../data/models/convLSTM/ConvLSTM2D20201205-112215_41.hdf5\n",
      "335/335 [==============================] - 103s 308ms/step - loss: 0.1773 - accuracy: 0.9220 - val_loss: 4.2367 - val_accuracy: 0.3184\n",
      "Epoch 42/100\n",
      "335/335 [==============================] - ETA: 0s - loss: 0.1908 - accuracy: 0.9203\n",
      "Epoch 00042: accuracy did not improve from 0.92199\n",
      "335/335 [==============================] - 100s 300ms/step - loss: 0.1908 - accuracy: 0.9203 - val_loss: 4.0713 - val_accuracy: 0.3380\n",
      "Epoch 43/100\n",
      "335/335 [==============================] - ETA: 0s - loss: 0.1808 - accuracy: 0.9240\n",
      "Epoch 00043: accuracy improved from 0.92199 to 0.92404, saving model to ../../data/models/convLSTM/ConvLSTM2D20201205-112215_43.hdf5\n",
      "335/335 [==============================] - 104s 310ms/step - loss: 0.1808 - accuracy: 0.9240 - val_loss: 4.8175 - val_accuracy: 0.3219\n",
      "Epoch 44/100\n",
      "335/335 [==============================] - ETA: 0s - loss: 0.1754 - accuracy: 0.9261\n",
      "Epoch 00044: accuracy improved from 0.92404 to 0.92609, saving model to ../../data/models/convLSTM/ConvLSTM2D20201205-112215_44.hdf5\n",
      "335/335 [==============================] - 103s 308ms/step - loss: 0.1754 - accuracy: 0.9261 - val_loss: 4.0375 - val_accuracy: 0.3310\n",
      "Epoch 45/100\n",
      "335/335 [==============================] - ETA: 0s - loss: 0.1660 - accuracy: 0.9300\n",
      "Epoch 00045: accuracy improved from 0.92609 to 0.93001, saving model to ../../data/models/convLSTM/ConvLSTM2D20201205-112215_45.hdf5\n",
      "335/335 [==============================] - 104s 309ms/step - loss: 0.1660 - accuracy: 0.9300 - val_loss: 4.6510 - val_accuracy: 0.3254\n",
      "Epoch 46/100\n",
      "335/335 [==============================] - ETA: 0s - loss: 0.1563 - accuracy: 0.9319\n",
      "Epoch 00046: accuracy improved from 0.93001 to 0.93188, saving model to ../../data/models/convLSTM/ConvLSTM2D20201205-112215_46.hdf5\n",
      "335/335 [==============================] - 104s 309ms/step - loss: 0.1563 - accuracy: 0.9319 - val_loss: 4.8252 - val_accuracy: 0.3156\n",
      "Epoch 47/100\n",
      "335/335 [==============================] - ETA: 0s - loss: 0.1651 - accuracy: 0.9304\n",
      "Epoch 00047: accuracy did not improve from 0.93188\n",
      "335/335 [==============================] - 100s 300ms/step - loss: 0.1651 - accuracy: 0.9304 - val_loss: 4.5082 - val_accuracy: 0.3184\n"
     ]
    },
    {
     "name": "stdout",
     "output_type": "stream",
     "text": [
      "Epoch 48/100\n",
      "335/335 [==============================] - ETA: 0s - loss: 0.1575 - accuracy: 0.9321\n",
      "Epoch 00048: accuracy improved from 0.93188 to 0.93206, saving model to ../../data/models/convLSTM/ConvLSTM2D20201205-112215_48.hdf5\n",
      "335/335 [==============================] - 103s 308ms/step - loss: 0.1575 - accuracy: 0.9321 - val_loss: 4.1793 - val_accuracy: 0.3373\n",
      "Epoch 49/100\n",
      "335/335 [==============================] - ETA: 0s - loss: 0.1369 - accuracy: 0.9395\n",
      "Epoch 00049: accuracy improved from 0.93206 to 0.93953, saving model to ../../data/models/convLSTM/ConvLSTM2D20201205-112215_49.hdf5\n",
      "335/335 [==============================] - 104s 309ms/step - loss: 0.1369 - accuracy: 0.9395 - val_loss: 4.4284 - val_accuracy: 0.3219\n",
      "Epoch 50/100\n",
      "335/335 [==============================] - ETA: 0s - loss: 0.1461 - accuracy: 0.9349\n",
      "Epoch 00050: accuracy did not improve from 0.93953\n",
      "335/335 [==============================] - 101s 302ms/step - loss: 0.1461 - accuracy: 0.9349 - val_loss: 4.6908 - val_accuracy: 0.3352\n",
      "Epoch 51/100\n",
      "335/335 [==============================] - ETA: 0s - loss: 0.1390 - accuracy: 0.9405\n",
      "Epoch 00051: accuracy improved from 0.93953 to 0.94046, saving model to ../../data/models/convLSTM/ConvLSTM2D20201205-112215_51.hdf5\n",
      "335/335 [==============================] - 103s 308ms/step - loss: 0.1390 - accuracy: 0.9405 - val_loss: 5.6809 - val_accuracy: 0.3135\n",
      "Epoch 52/100\n",
      "335/335 [==============================] - ETA: 0s - loss: 0.1299 - accuracy: 0.9412\n",
      "Epoch 00052: accuracy improved from 0.94046 to 0.94121, saving model to ../../data/models/convLSTM/ConvLSTM2D20201205-112215_52.hdf5\n",
      "335/335 [==============================] - 103s 308ms/step - loss: 0.1299 - accuracy: 0.9412 - val_loss: 4.5241 - val_accuracy: 0.3240\n",
      "Epoch 53/100\n",
      "335/335 [==============================] - ETA: 0s - loss: 0.1362 - accuracy: 0.9412\n",
      "Epoch 00053: accuracy did not improve from 0.94121\n",
      "335/335 [==============================] - 100s 300ms/step - loss: 0.1362 - accuracy: 0.9412 - val_loss: 4.7885 - val_accuracy: 0.3093\n",
      "Epoch 54/100\n",
      "335/335 [==============================] - ETA: 0s - loss: 0.1313 - accuracy: 0.9421\n",
      "Epoch 00054: accuracy improved from 0.94121 to 0.94214, saving model to ../../data/models/convLSTM/ConvLSTM2D20201205-112215_54.hdf5\n",
      "335/335 [==============================] - 103s 308ms/step - loss: 0.1313 - accuracy: 0.9421 - val_loss: 4.6677 - val_accuracy: 0.3191\n",
      "Epoch 55/100\n",
      "335/335 [==============================] - ETA: 0s - loss: 0.1291 - accuracy: 0.9453\n",
      "Epoch 00055: accuracy improved from 0.94214 to 0.94532, saving model to ../../data/models/convLSTM/ConvLSTM2D20201205-112215_55.hdf5\n",
      "335/335 [==============================] - 103s 308ms/step - loss: 0.1291 - accuracy: 0.9453 - val_loss: 4.5816 - val_accuracy: 0.3219\n",
      "Epoch 56/100\n",
      "335/335 [==============================] - ETA: 0s - loss: 0.1264 - accuracy: 0.9455\n",
      "Epoch 00056: accuracy improved from 0.94532 to 0.94550, saving model to ../../data/models/convLSTM/ConvLSTM2D20201205-112215_56.hdf5\n",
      "335/335 [==============================] - 103s 307ms/step - loss: 0.1264 - accuracy: 0.9455 - val_loss: 5.4750 - val_accuracy: 0.3177\n",
      "Epoch 57/100\n",
      "335/335 [==============================] - ETA: 0s - loss: 0.1217 - accuracy: 0.9444\n",
      "Epoch 00057: accuracy did not improve from 0.94550\n",
      "335/335 [==============================] - 100s 300ms/step - loss: 0.1217 - accuracy: 0.9444 - val_loss: 4.7100 - val_accuracy: 0.3247\n",
      "Epoch 58/100\n",
      "335/335 [==============================] - ETA: 0s - loss: 0.1189 - accuracy: 0.9509\n",
      "Epoch 00058: accuracy improved from 0.94550 to 0.95091, saving model to ../../data/models/convLSTM/ConvLSTM2D20201205-112215_58.hdf5\n",
      "335/335 [==============================] - 103s 309ms/step - loss: 0.1189 - accuracy: 0.9509 - val_loss: 4.9444 - val_accuracy: 0.3471\n",
      "Epoch 59/100\n",
      "335/335 [==============================] - ETA: 0s - loss: 0.1150 - accuracy: 0.9487\n",
      "Epoch 00059: accuracy did not improve from 0.95091\n",
      "335/335 [==============================] - 100s 300ms/step - loss: 0.1150 - accuracy: 0.9487 - val_loss: 4.9439 - val_accuracy: 0.3338\n",
      "Epoch 60/100\n",
      "335/335 [==============================] - ETA: 0s - loss: 0.1191 - accuracy: 0.9457\n",
      "Epoch 00060: accuracy did not improve from 0.95091\n",
      "335/335 [==============================] - 101s 300ms/step - loss: 0.1191 - accuracy: 0.9457 - val_loss: 5.1648 - val_accuracy: 0.3247\n",
      "Epoch 61/100\n",
      "335/335 [==============================] - ETA: 0s - loss: 0.1117 - accuracy: 0.9505\n",
      "Epoch 00061: accuracy did not improve from 0.95091\n",
      "335/335 [==============================] - 100s 300ms/step - loss: 0.1117 - accuracy: 0.9505 - val_loss: 4.8711 - val_accuracy: 0.3429\n",
      "Epoch 62/100\n",
      "335/335 [==============================] - ETA: 0s - loss: 0.1116 - accuracy: 0.9522\n",
      "Epoch 00062: accuracy improved from 0.95091 to 0.95222, saving model to ../../data/models/convLSTM/ConvLSTM2D20201205-112215_62.hdf5\n",
      "335/335 [==============================] - 103s 306ms/step - loss: 0.1116 - accuracy: 0.9522 - val_loss: 4.7697 - val_accuracy: 0.3282\n",
      "Epoch 63/100\n",
      "335/335 [==============================] - ETA: 0s - loss: 0.1154 - accuracy: 0.9494\n",
      "Epoch 00063: accuracy did not improve from 0.95222\n",
      "335/335 [==============================] - 100s 300ms/step - loss: 0.1154 - accuracy: 0.9494 - val_loss: 4.7243 - val_accuracy: 0.3324\n",
      "Epoch 64/100\n",
      "335/335 [==============================] - ETA: 0s - loss: 0.1109 - accuracy: 0.9518\n",
      "Epoch 00064: accuracy did not improve from 0.95222\n",
      "335/335 [==============================] - 101s 302ms/step - loss: 0.1109 - accuracy: 0.9518 - val_loss: 5.3418 - val_accuracy: 0.3226\n",
      "Epoch 65/100\n",
      "335/335 [==============================] - ETA: 0s - loss: 0.0939 - accuracy: 0.9604\n",
      "Epoch 00065: accuracy improved from 0.95222 to 0.96043, saving model to ../../data/models/convLSTM/ConvLSTM2D20201205-112215_65.hdf5\n",
      "335/335 [==============================] - 103s 306ms/step - loss: 0.0939 - accuracy: 0.9604 - val_loss: 5.6505 - val_accuracy: 0.3205\n",
      "Epoch 66/100\n",
      "335/335 [==============================] - ETA: 0s - loss: 0.0994 - accuracy: 0.9584\n",
      "Epoch 00066: accuracy did not improve from 0.96043\n",
      "335/335 [==============================] - 100s 300ms/step - loss: 0.0994 - accuracy: 0.9584 - val_loss: 5.4159 - val_accuracy: 0.3219\n",
      "Epoch 67/100\n",
      "335/335 [==============================] - ETA: 0s - loss: 0.0995 - accuracy: 0.9558\n",
      "Epoch 00067: accuracy did not improve from 0.96043\n",
      "335/335 [==============================] - 100s 300ms/step - loss: 0.0995 - accuracy: 0.9558 - val_loss: 5.1317 - val_accuracy: 0.3310\n",
      "Epoch 68/100\n",
      "335/335 [==============================] - ETA: 0s - loss: 0.1122 - accuracy: 0.9511\n",
      "Epoch 00068: accuracy did not improve from 0.96043\n",
      "335/335 [==============================] - 100s 299ms/step - loss: 0.1122 - accuracy: 0.9511 - val_loss: 5.1855 - val_accuracy: 0.3282\n",
      "Epoch 69/100\n",
      "335/335 [==============================] - ETA: 0s - loss: 0.1135 - accuracy: 0.9502\n",
      "Epoch 00069: accuracy did not improve from 0.96043\n",
      "335/335 [==============================] - 100s 300ms/step - loss: 0.1135 - accuracy: 0.9502 - val_loss: 5.0792 - val_accuracy: 0.3296\n",
      "Epoch 00069: early stopping\n"
     ]
    }
   ],
   "source": [
    "history = model.fit(\n",
    "    x=x_train, \n",
    "    y=y_train, \n",
    "    batch_size=16, \n",
    "    epochs=100, \n",
    "    verbose=1, \n",
    "    callbacks=callbacks,\n",
    "    validation_data=(x_val, y_val), \n",
    ")"
   ]
  },
  {
   "cell_type": "code",
   "execution_count": 9,
   "metadata": {},
   "outputs": [
    {
     "name": "stdout",
     "output_type": "stream",
     "text": [
      "dict_keys(['loss', 'accuracy', 'val_loss', 'val_accuracy'])\n"
     ]
    },
    {
     "data": {
      "image/png": "[encoded data removed]",
      "text/plain": [
       "<Figure size 432x288 with 1 Axes>"
      ]
     },
     "metadata": {
      "needs_background": "light"
     },
     "output_type": "display_data"
    }
   ],
   "source": [
    "# Show graphs\n",
    "print(history.history.keys())\n",
    "\n",
    "plt.plot(history.history['loss'])\n",
    "plt.plot(history.history['val_loss'])\n",
    "plt.title('model loss')\n",
    "plt.ylabel('loss')\n",
    "plt.xlabel('epoch')\n",
    "plt.legend(['train', 'val'], loc='upper left')\n",
    "plt.show()"
   ]
  },
  {
   "cell_type": "code",
   "execution_count": 10,
   "metadata": {},
   "outputs": [
    {
     "name": "stdout",
     "output_type": "stream",
     "text": [
      "dict_keys(['loss', 'accuracy', 'val_loss', 'val_accuracy'])\n"
     ]
    },
    {
     "data": {
      "image/png": "[encoded data removed]",
      "text/plain": [
       "<Figure size 432x288 with 1 Axes>"
      ]
     },
     "metadata": {
      "needs_background": "light"
     },
     "output_type": "display_data"
    }
   ],
   "source": [
    "print(history.history.keys())\n",
    "\n",
    "plt.plot(history.history['accuracy'])\n",
    "plt.plot(history.history['val_accuracy'])\n",
    "plt.title('model accuracy')\n",
    "plt.ylabel('accuracy')\n",
    "plt.xlabel('epoch')\n",
    "plt.legend(['train', 'val'], loc='upper left')\n",
    "plt.show()"
   ]
  },
  {
   "cell_type": "markdown",
   "metadata": {},
   "source": [
    "# test Data"
   ]
  },
  {
   "cell_type": "code",
   "execution_count": 27,
   "metadata": {},
   "outputs": [
    {
     "name": "stdout",
     "output_type": "stream",
     "text": [
      "(35680, 160, 160, 3) (35680, 4)\n"
     ]
    }
   ],
   "source": [
    "# Get image files\n",
    "x_test = np.load(numpy_dir + 'X_test_img.npy', allow_pickle=True) \n",
    "y_test = np.load(numpy_dir + 'y_cat_test.npy', allow_pickle=True)  \n",
    "print(x_test.shape, y_test.shape)"
   ]
  },
  {
   "cell_type": "code",
   "execution_count": 28,
   "metadata": {},
   "outputs": [
    {
     "name": "stdout",
     "output_type": "stream",
     "text": [
      "(1784, 20, 160, 160, 3) (1784, 4)\n"
     ]
    }
   ],
   "source": [
    "# Reshape to get sequences together\n",
    "x_test = x_test.reshape(int(x_test.shape[0]/20), 20, 160, 160, 3)\n",
    "y_test = y_test[1::20]\n",
    "print(x_test.shape, y_test.shape)"
   ]
  },
  {
   "cell_type": "code",
   "execution_count": 29,
   "metadata": {},
   "outputs": [
    {
     "name": "stdout",
     "output_type": "stream",
     "text": [
      "56/56 [==============================] - 9s 157ms/step - loss: 2.9969 - accuracy: 0.3436\n",
      "test acc: 0.34360986948013306\n"
     ]
    }
   ],
   "source": [
    "test_loss, test_acc = model.evaluate(x_test, y_test)\n",
    "print('test acc:', test_acc)"
   ]
  },
  {
   "cell_type": "code",
   "execution_count": 30,
   "metadata": {},
   "outputs": [],
   "source": [
    "# test on unseen data\n",
    "y_pred = model.predict(x_test)"
   ]
  },
  {
   "cell_type": "code",
   "execution_count": 31,
   "metadata": {},
   "outputs": [],
   "source": [
    "# to get around one hot encoding\n",
    "y_pred = np.argmax(y_pred, axis = 1)\n",
    "y_test = np.argmax(y_test, axis = 1)"
   ]
  },
  {
   "cell_type": "code",
   "execution_count": 32,
   "metadata": {},
   "outputs": [
    {
     "name": "stdout",
     "output_type": "stream",
     "text": [
      "             precision    recall  f1-score   support\n",
      "\n",
      "          0       0.45      0.38      0.41       823\n",
      "          1       0.33      0.47      0.39       584\n",
      "          2       0.16      0.09      0.11       338\n",
      "          3       0.00      0.00      0.00        39\n",
      "\n",
      "avg / total       0.35      0.34      0.34      1784\n",
      "\n"
     ]
    }
   ],
   "source": [
    "# print the report\n",
    "print(classification_report(y_test, y_pred))"
   ]
  },
  {
   "cell_type": "code",
   "execution_count": 33,
   "metadata": {},
   "outputs": [
    {
     "data": {
      "image/png": "[encoded data removed]",
      "text/plain": [
       "<Figure size 432x288 with 2 Axes>"
      ]
     },
     "metadata": {
      "needs_background": "light"
     },
     "output_type": "display_data"
    }
   ],
   "source": [
    "class_labels = [0,1,2,3]\n",
    "cm = confusion_matrix(y_test, y_pred, class_labels)\n",
    "\n",
    "ax= plt.subplot()\n",
    "sns.heatmap(cm, annot=True, ax = ax, fmt='g', cmap='Greens'); #annot=True to annotate cells\n",
    "\n",
    "# labels, title and ticks\n",
    "ax.set_xlabel('Predicted labels');ax.set_ylabel('True labels'); \n",
    "ax.set_title('Confusion Matrix'); \n",
    "ax.xaxis.set_ticklabels(class_labels); ax.yaxis.set_ticklabels(class_labels);"
   ]
  },
  {
   "cell_type": "code",
   "execution_count": null,
   "metadata": {},
   "outputs": [],
   "source": []
  }
 ],
 "metadata": {
  "kernelspec": {
   "display_name": "Python 3",
   "language": "python",
   "name": "python3"
  },
  "language_info": {
   "codemirror_mode": {
    "name": "ipython",
    "version": 3
   },
   "file_extension": ".py",
   "mimetype": "text/x-python",
   "name": "python",
   "nbconvert_exporter": "python",
   "pygments_lexer": "ipython3",
   "version": "3.7.6"
  }
 },
 "nbformat": 4,
 "nbformat_minor": 2
}
