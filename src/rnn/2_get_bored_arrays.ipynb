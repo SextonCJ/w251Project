{
 "cells": [
  {
   "cell_type": "markdown",
   "metadata": {},
   "source": [
    "# Create arrays for RNN training\n",
    "Arrays are saved under 2FPS/data, i.e alongside the actual data"
   ]
  },
  {
   "cell_type": "code",
   "execution_count": 1,
   "metadata": {},
   "outputs": [],
   "source": [
    "import warnings\n",
    "warnings.filterwarnings('ignore')\n",
    "\n",
    "import os\n",
    "from matplotlib import pyplot as plt\n",
    "%matplotlib inline\n",
    "import shutil\n",
    "import glob\n",
    "from pathlib import Path\n",
    "import pandas as pd\n",
    "import numpy as np\n",
    "import time\n",
    "from PIL import Image\n",
    "\n",
    "from keras.utils import to_categorical\n"
   ]
  },
  {
   "cell_type": "code",
   "execution_count": 2,
   "metadata": {},
   "outputs": [],
   "source": [
    "fps = '2FPS'\n",
    "frame_dir = '../../data/DAiSEE/' + fps + '/data/'"
   ]
  },
  {
   "cell_type": "code",
   "execution_count": 3,
   "metadata": {},
   "outputs": [
    {
     "name": "stdout",
     "output_type": "stream",
     "text": [
      "../../data/DAiSEE/2FPS/data/\n"
     ]
    }
   ],
   "source": [
    "print(frame_dir)"
   ]
  },
  {
   "cell_type": "code",
   "execution_count": 4,
   "metadata": {},
   "outputs": [],
   "source": [
    "def get_data_frames (frame_dir, usage):\n",
    "    # Get Data Files\n",
    "    df = pd.DataFrame([file_path for file_path in Path(frame_dir + usage).glob('**/*.jpg')], columns=['file'])\n",
    "    df[\"root\"] = df[\"file\"].apply(lambda x: os.path.split(os.path.split(x)[0])[1])\n",
    "    df['basefile'] = df['file'].apply(lambda x: os.path.basename(x))\n",
    "    df['sequence'] = df['basefile'].apply(lambda x: int(x[x.find('_')+1:-4]))\n",
    "    df['basename'] = df['basefile'].apply(lambda x: x[:x.find('_')])  \n",
    "    df.sort_values([\"root\", \"basename\", \"sequence\"], inplace = True)\n",
    "    \n",
    "\n",
    "    return df"
   ]
  },
  {
   "cell_type": "code",
   "execution_count": 5,
   "metadata": {},
   "outputs": [],
   "source": [
    "df_train = get_data_frames(frame_dir, 'train')\n",
    "df_test = get_data_frames(frame_dir, 'test')\n",
    "df_val = get_data_frames(frame_dir, 'validation')"
   ]
  },
  {
   "cell_type": "code",
   "execution_count": 6,
   "metadata": {},
   "outputs": [],
   "source": [
    "# reset the indexes\n",
    "df_train.reset_index(drop=True, inplace=True)\n",
    "df_test.reset_index(drop=True, inplace=True)\n",
    "df_val.reset_index(drop=True, inplace=True)"
   ]
  },
  {
   "cell_type": "code",
   "execution_count": 7,
   "metadata": {},
   "outputs": [],
   "source": [
    "# create label\n",
    "df_train['label'] = df_train['root'].str.replace('b','').astype(int)\n",
    "df_test['label'] = df_test['root'].str.replace('b','').astype(int)\n",
    "df_val['label'] = df_val['root'].str.replace('b','').astype(int)"
   ]
  },
  {
   "cell_type": "code",
   "execution_count": 8,
   "metadata": {},
   "outputs": [
    {
     "data": {
      "text/html": [
       "<div>\n",
       "<style scoped>\n",
       "    .dataframe tbody tr th:only-of-type {\n",
       "        vertical-align: middle;\n",
       "    }\n",
       "\n",
       "    .dataframe tbody tr th {\n",
       "        vertical-align: top;\n",
       "    }\n",
       "\n",
       "    .dataframe thead th {\n",
       "        text-align: right;\n",
       "    }\n",
       "</style>\n",
       "<table border=\"1\" class=\"dataframe\">\n",
       "  <thead>\n",
       "    <tr style=\"text-align: right;\">\n",
       "      <th></th>\n",
       "      <th>file</th>\n",
       "      <th>root</th>\n",
       "      <th>basefile</th>\n",
       "      <th>sequence</th>\n",
       "      <th>basename</th>\n",
       "      <th>label</th>\n",
       "    </tr>\n",
       "  </thead>\n",
       "  <tbody>\n",
       "    <tr>\n",
       "      <th>0</th>\n",
       "      <td>../../data/DAiSEE/2FPS/data/train/b0/110001100...</td>\n",
       "      <td>b0</td>\n",
       "      <td>1100011002_1.jpg</td>\n",
       "      <td>1</td>\n",
       "      <td>1100011002</td>\n",
       "      <td>0</td>\n",
       "    </tr>\n",
       "    <tr>\n",
       "      <th>1</th>\n",
       "      <td>../../data/DAiSEE/2FPS/data/train/b0/110001100...</td>\n",
       "      <td>b0</td>\n",
       "      <td>1100011002_2.jpg</td>\n",
       "      <td>2</td>\n",
       "      <td>1100011002</td>\n",
       "      <td>0</td>\n",
       "    </tr>\n",
       "    <tr>\n",
       "      <th>2</th>\n",
       "      <td>../../data/DAiSEE/2FPS/data/train/b0/110001100...</td>\n",
       "      <td>b0</td>\n",
       "      <td>1100011002_3.jpg</td>\n",
       "      <td>3</td>\n",
       "      <td>1100011002</td>\n",
       "      <td>0</td>\n",
       "    </tr>\n",
       "    <tr>\n",
       "      <th>3</th>\n",
       "      <td>../../data/DAiSEE/2FPS/data/train/b0/110001100...</td>\n",
       "      <td>b0</td>\n",
       "      <td>1100011002_4.jpg</td>\n",
       "      <td>4</td>\n",
       "      <td>1100011002</td>\n",
       "      <td>0</td>\n",
       "    </tr>\n",
       "    <tr>\n",
       "      <th>4</th>\n",
       "      <td>../../data/DAiSEE/2FPS/data/train/b0/110001100...</td>\n",
       "      <td>b0</td>\n",
       "      <td>1100011002_5.jpg</td>\n",
       "      <td>5</td>\n",
       "      <td>1100011002</td>\n",
       "      <td>0</td>\n",
       "    </tr>\n",
       "    <tr>\n",
       "      <th>...</th>\n",
       "      <td>...</td>\n",
       "      <td>...</td>\n",
       "      <td>...</td>\n",
       "      <td>...</td>\n",
       "      <td>...</td>\n",
       "      <td>...</td>\n",
       "    </tr>\n",
       "    <tr>\n",
       "      <th>107145</th>\n",
       "      <td>../../data/DAiSEE/2FPS/data/train/b3/459999021...</td>\n",
       "      <td>b3</td>\n",
       "      <td>4599990211_6.jpg</td>\n",
       "      <td>6</td>\n",
       "      <td>4599990211</td>\n",
       "      <td>3</td>\n",
       "    </tr>\n",
       "    <tr>\n",
       "      <th>107146</th>\n",
       "      <td>../../data/DAiSEE/2FPS/data/train/b3/459999021...</td>\n",
       "      <td>b3</td>\n",
       "      <td>4599990211_7.jpg</td>\n",
       "      <td>7</td>\n",
       "      <td>4599990211</td>\n",
       "      <td>3</td>\n",
       "    </tr>\n",
       "    <tr>\n",
       "      <th>107147</th>\n",
       "      <td>../../data/DAiSEE/2FPS/data/train/b3/459999021...</td>\n",
       "      <td>b3</td>\n",
       "      <td>4599990211_8.jpg</td>\n",
       "      <td>8</td>\n",
       "      <td>4599990211</td>\n",
       "      <td>3</td>\n",
       "    </tr>\n",
       "    <tr>\n",
       "      <th>107148</th>\n",
       "      <td>../../data/DAiSEE/2FPS/data/train/b3/459999021...</td>\n",
       "      <td>b3</td>\n",
       "      <td>4599990211_9.jpg</td>\n",
       "      <td>9</td>\n",
       "      <td>4599990211</td>\n",
       "      <td>3</td>\n",
       "    </tr>\n",
       "    <tr>\n",
       "      <th>107149</th>\n",
       "      <td>../../data/DAiSEE/2FPS/data/train/b3/459999021...</td>\n",
       "      <td>b3</td>\n",
       "      <td>4599990211_10.jpg</td>\n",
       "      <td>10</td>\n",
       "      <td>4599990211</td>\n",
       "      <td>3</td>\n",
       "    </tr>\n",
       "  </tbody>\n",
       "</table>\n",
       "<p>107150 rows × 6 columns</p>\n",
       "</div>"
      ],
      "text/plain": [
       "                                                     file root  \\\n",
       "0       ../../data/DAiSEE/2FPS/data/train/b0/110001100...   b0   \n",
       "1       ../../data/DAiSEE/2FPS/data/train/b0/110001100...   b0   \n",
       "2       ../../data/DAiSEE/2FPS/data/train/b0/110001100...   b0   \n",
       "3       ../../data/DAiSEE/2FPS/data/train/b0/110001100...   b0   \n",
       "4       ../../data/DAiSEE/2FPS/data/train/b0/110001100...   b0   \n",
       "...                                                   ...  ...   \n",
       "107145  ../../data/DAiSEE/2FPS/data/train/b3/459999021...   b3   \n",
       "107146  ../../data/DAiSEE/2FPS/data/train/b3/459999021...   b3   \n",
       "107147  ../../data/DAiSEE/2FPS/data/train/b3/459999021...   b3   \n",
       "107148  ../../data/DAiSEE/2FPS/data/train/b3/459999021...   b3   \n",
       "107149  ../../data/DAiSEE/2FPS/data/train/b3/459999021...   b3   \n",
       "\n",
       "                 basefile  sequence    basename  label  \n",
       "0        1100011002_1.jpg         1  1100011002      0  \n",
       "1        1100011002_2.jpg         2  1100011002      0  \n",
       "2        1100011002_3.jpg         3  1100011002      0  \n",
       "3        1100011002_4.jpg         4  1100011002      0  \n",
       "4        1100011002_5.jpg         5  1100011002      0  \n",
       "...                   ...       ...         ...    ...  \n",
       "107145   4599990211_6.jpg         6  4599990211      3  \n",
       "107146   4599990211_7.jpg         7  4599990211      3  \n",
       "107147   4599990211_8.jpg         8  4599990211      3  \n",
       "107148   4599990211_9.jpg         9  4599990211      3  \n",
       "107149  4599990211_10.jpg        10  4599990211      3  \n",
       "\n",
       "[107150 rows x 6 columns]"
      ]
     },
     "execution_count": 8,
     "metadata": {},
     "output_type": "execute_result"
    }
   ],
   "source": [
    "df_train.head(-10)"
   ]
  },
  {
   "cell_type": "code",
   "execution_count": 9,
   "metadata": {},
   "outputs": [
    {
     "name": "stdout",
     "output_type": "stream",
     "text": [
      "(107160, 6) divided by 20= 5358.0\n",
      "(35680, 6) divided by 20= 1784.0\n",
      "(28580, 6) divided by 20= 1429.0\n"
     ]
    }
   ],
   "source": [
    "# check shapes of df - they should all be divisible by 20\n",
    "print(df_train.shape, 'divided by 20=', df_train.shape[0]/20)\n",
    "print(df_test.shape, 'divided by 20=', df_test.shape[0]/20)\n",
    "print(df_val.shape, 'divided by 20=', df_val.shape[0]/20)"
   ]
  },
  {
   "cell_type": "code",
   "execution_count": 10,
   "metadata": {},
   "outputs": [],
   "source": [
    "def save_array(df, usage):\n",
    "    filepath = df['file'].to_numpy()\n",
    "    y_arr = df['label'].to_numpy()\n",
    "    y_arr_cat = to_categorical(y_arr, num_classes=4)\n",
    "    \n",
    "    np.save(f\"{str(frame_dir)}/x_{usage.lower()}\", filepath, allow_pickle=True)\n",
    "    np.save(f\"{str(frame_dir)}/y_cat_{usage.lower()}\", y_arr_cat, allow_pickle=True)\n",
    "    np.save(f\"{str(frame_dir)}/y_lab_{usage.lower()}\", y_arr, allow_pickle=True)"
   ]
  },
  {
   "cell_type": "code",
   "execution_count": 11,
   "metadata": {},
   "outputs": [],
   "source": [
    "save_array(df_train, 'train')\n",
    "save_array(df_test, 'test')\n",
    "save_array(df_val, 'val')"
   ]
  },
  {
   "cell_type": "markdown",
   "metadata": {},
   "source": [
    "# Save Arrays with images stored in array (takes time)"
   ]
  },
  {
   "cell_type": "code",
   "execution_count": null,
   "metadata": {},
   "outputs": [],
   "source": [
    "def save_array_images(frame_dir, usage):\n",
    "    file_arr = np.load(frame_dir + 'x_' + usage + '.npy', allow_pickle=True) \n",
    "    file_str = file_arr.astype(str)\n",
    "    x = np.array([np.array(Image.open(fname).resize((160,160))) for fname in file_str])\n",
    "    np.save(frame_dir + 'X_' + usage + '_img.npy', x, allow_pickle=True)"
   ]
  },
  {
   "cell_type": "code",
   "execution_count": null,
   "metadata": {},
   "outputs": [],
   "source": [
    "save_array_images(frame_dir, 'train')\n",
    "save_array_images(frame_dir, 'test')\n",
    "save_array_images(frame_dir, 'val')"
   ]
  }
 ],
 "metadata": {
  "kernelspec": {
   "display_name": "Python 3",
   "language": "python",
   "name": "python3"
  },
  "language_info": {
   "codemirror_mode": {
    "name": "ipython",
    "version": 3
   },
   "file_extension": ".py",
   "mimetype": "text/x-python",
   "name": "python",
   "nbconvert_exporter": "python",
   "pygments_lexer": "ipython3",
   "version": "3.6.9"
  }
 },
 "nbformat": 4,
 "nbformat_minor": 4
}
