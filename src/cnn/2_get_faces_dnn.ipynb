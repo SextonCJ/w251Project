{
 "cells": [
  {
   "cell_type": "code",
   "execution_count": 1,
   "metadata": {},
   "outputs": [],
   "source": [
    "import warnings\n",
    "warnings.filterwarnings('ignore')"
   ]
  },
  {
   "cell_type": "code",
   "execution_count": 2,
   "metadata": {},
   "outputs": [],
   "source": [
    "import numpy as np\n",
    "import argparse\n",
    "import cv2\n",
    "\n",
    "from PIL import Image, ImageOps\n",
    "from numpy import asarray\n",
    "\n",
    "import os\n",
    "import numpy as np\n",
    "import pandas as pd"
   ]
  },
  {
   "cell_type": "code",
   "execution_count": 3,
   "metadata": {},
   "outputs": [],
   "source": [
    "# Jupyter only\n",
    "from matplotlib import pyplot as plt\n",
    "from IPython.display import display\n",
    "%matplotlib inline"
   ]
  },
  {
   "cell_type": "code",
   "execution_count": 7,
   "metadata": {},
   "outputs": [],
   "source": [
    "fps = '1FPS'\n",
    "frame_dir = '../../data/DAiSEE/' + fps + '/data/' \n",
    "faces_dir = '../../data/DAiSEE/' + fps + '/dataFaces/'\n",
    "caffe_dir = '../../data/models/caffe/'\n"
   ]
  },
  {
   "cell_type": "code",
   "execution_count": 9,
   "metadata": {},
   "outputs": [],
   "source": [
    "# load model from disk\n",
    "net = cv2.dnn.readNetFromCaffe(caffe_dir + 'deploy.prototxt.txt', caffe_dir + 'res10_300x300_ssd_iter_140000.caffemodel')\n",
    "net.setPreferableBackend(cv2.dnn.DNN_BACKEND_CUDA)\n",
    "net.setPreferableTarget(cv2.dnn.DNN_TARGET_CUDA)"
   ]
  },
  {
   "cell_type": "code",
   "execution_count": 10,
   "metadata": {},
   "outputs": [],
   "source": [
    "# extract a single face from a given photograph\n",
    "def extract_face(image_file, required_size=(300, 300)):\n",
    "    image = cv2.imread(image_file)\n",
    "    (h, w) = image.shape[:2]\n",
    "    blob = cv2.dnn.blobFromImage(cv2.resize(image, (300,300)), 1.0, (300, 300), (103.93, 116.77, 123.68))\n",
    "    net.setInput(blob)\n",
    "    detections = net.forward()\n",
    "    \n",
    "    for i in range(0, detections.shape[2]):\n",
    "        confidence = detections[0, 0, i, 2]\n",
    "        if confidence > 0.5:\n",
    "            box = detections[0, 0, i, 3:7] * np.array([w, h, w, h])\n",
    "            (startX, startY, endX, endY) = box.astype(\"int\")\n",
    "            face = image[startY:endY, startX:endX]\n",
    "    return face\n",
    "\n",
    "# load images and extract faces for all images in a directory\n",
    "def load_faces(directory, destination):\n",
    "    faces = list()\n",
    "    cnt = 0\n",
    "    for filename in os.listdir(directory):\n",
    "        path = directory + filename\n",
    "        if filename[-3:]=='jpg':\n",
    "            try:\n",
    "                face = extract_face(path)       \n",
    "                cv2.imwrite(destination + filename, face)\n",
    "                cnt +=1           \n",
    "            except:\n",
    "                continue\n",
    "    \n",
    "    return cnt"
   ]
  },
  {
   "cell_type": "code",
   "execution_count": 11,
   "metadata": {},
   "outputs": [
    {
     "name": "stdout",
     "output_type": "stream",
     "text": [
      "../../data/DAiSEE/1FPS/dataFaces/train/b0/ 24325\n",
      "../../data/DAiSEE/1FPS/dataFaces/train/b1/ 16955\n",
      "../../data/DAiSEE/1FPS/dataFaces/train/b2/ 10726\n",
      "../../data/DAiSEE/1FPS/dataFaces/train/b3/ 1560\n",
      "../../data/DAiSEE/1FPS/dataFaces/test/b0/ 8230\n",
      "../../data/DAiSEE/1FPS/dataFaces/test/b1/ 5837\n",
      "../../data/DAiSEE/1FPS/dataFaces/test/b2/ 3373\n",
      "../../data/DAiSEE/1FPS/dataFaces/test/b3/ 390\n",
      "../../data/DAiSEE/1FPS/dataFaces/validation/b0/ 4459\n",
      "../../data/DAiSEE/1FPS/dataFaces/validation/b1/ 3760\n",
      "../../data/DAiSEE/1FPS/dataFaces/validation/b2/ 4750\n",
      "../../data/DAiSEE/1FPS/dataFaces/validation/b3/ 1320\n"
     ]
    }
   ],
   "source": [
    "# Create image file structure for faces data and grab the faces\n",
    "cols = ['b0', 'b1', 'b2', 'b3']\n",
    "dirs = ['train', 'test', 'validation']\n",
    "\n",
    "for d in dirs:\n",
    "    for c in cols:\n",
    "        in_dir = frame_dir + d + '/' + c + '/'\n",
    "        out_dir = faces_dir + d + '/' + c + '/'\n",
    "        \n",
    "        # make the faces directory if it doesn't already exist\n",
    "        if not os.path.exists(out_dir):\n",
    "            os.makedirs(out_dir)\n",
    "            \n",
    "        # get the faces and save\n",
    "        c = load_faces(in_dir, out_dir)\n",
    "        print(out_dir, c)"
   ]
  },
  {
   "cell_type": "code",
   "execution_count": null,
   "metadata": {},
   "outputs": [],
   "source": []
  }
 ],
 "metadata": {
  "kernelspec": {
   "display_name": "Python 3",
   "language": "python",
   "name": "python3"
  },
  "language_info": {
   "codemirror_mode": {
    "name": "ipython",
    "version": 3
   },
   "file_extension": ".py",
   "mimetype": "text/x-python",
   "name": "python",
   "nbconvert_exporter": "python",
   "pygments_lexer": "ipython3",
   "version": "3.6.9"
  }
 },
 "nbformat": 4,
 "nbformat_minor": 4
}
