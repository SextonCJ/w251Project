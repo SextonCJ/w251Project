{
 "cells": [
  {
   "cell_type": "code",
   "execution_count": 1,
   "metadata": {},
   "outputs": [],
   "source": [
    "from keras.preprocessing.image import ImageDataGenerator, array_to_img, img_to_array, load_img\n",
    "\n",
    "from skimage import io\n",
    "\n",
    "import cv2\n",
    "import os\n",
    "import glob"
   ]
  },
  {
   "cell_type": "code",
   "execution_count": null,
   "metadata": {},
   "outputs": [],
   "source": [
    "fps = '1FPS'\n",
    "# manually copy dataFaces directory to dataFacesAug, to preserve orginal\n",
    "faces_dir = '../../data/DAiSEE/' + fps + '/dataFacesAug'"
   ]
  },
  {
   "cell_type": "code",
   "execution_count": 4,
   "metadata": {},
   "outputs": [],
   "source": [
    "def img_aug (img_dir, save_dir):\n",
    "    \n",
    "    datagen = ImageDataGenerator(rotation_range =15, \n",
    "                             width_shift_range = 0.2, \n",
    "                             height_shift_range = 0.2,  \n",
    "                             rescale=1./255, \n",
    "                             shear_range=0.2, \n",
    "                             zoom_range=0.2, \n",
    "                             horizontal_flip = True, \n",
    "                             fill_mode = 'nearest', \n",
    "                             data_format='channels_last', \n",
    "                             brightness_range=[0.5, 1.5]) \n",
    "\n",
    "\n",
    "    \n",
    "    data_path = os.path.join(img_dir,'*g')\n",
    "    files = glob.glob(data_path)\n",
    "    data = []\n",
    "    for f1 in files:\n",
    "        img = cv2.imread(f1)\n",
    "        data.append(img)\n",
    "\n",
    "    x = img_to_array(img)\n",
    "    x = x.reshape((1,) + x.shape)\n",
    "\n",
    "    i = 0\n",
    "    path, dirs, files = next(os.walk(img_dir))\n",
    "    file_count = len(files) #to find number of files in folder\n",
    "\n",
    "    for batch in datagen.flow (x, batch_size=1, save_to_dir = save_dir, save_prefix=\"a\",save_format='jpg'):\n",
    "        i+=1\n",
    "        if i==file_count:\n",
    "            break\n",
    "        \n",
    "    return(\"success\")"
   ]
  },
  {
   "cell_type": "code",
   "execution_count": 7,
   "metadata": {},
   "outputs": [
    {
     "name": "stdout",
     "output_type": "stream",
     "text": [
      "success\n"
     ]
    }
   ],
   "source": [
    "## Do 3 times\n",
    "load_dir = faces_dir + 'test/b3/'\n",
    "save_dir = load_dir\n",
    "\n",
    "res = img_aug(load_dir, save_dir)\n",
    "print(res)"
   ]
  },
  {
   "cell_type": "code",
   "execution_count": 8,
   "metadata": {},
   "outputs": [
    {
     "name": "stdout",
     "output_type": "stream",
     "text": [
      "success\n"
     ]
    }
   ],
   "source": [
    "## Do 1 times\n",
    "load_dir = faces_dir + 'validation/b3/'\n",
    "save_dir = load_dir\n",
    "\n",
    "res = img_aug(load_dir, save_dir)\n",
    "print(res)"
   ]
  },
  {
   "cell_type": "code",
   "execution_count": 11,
   "metadata": {},
   "outputs": [
    {
     "name": "stdout",
     "output_type": "stream",
     "text": [
      "success\n"
     ]
    }
   ],
   "source": [
    "## Do 3 times\n",
    "load_dir = faces_dir + 'train_b/b3/'\n",
    "save_dir = load_dir\n",
    "\n",
    "res = img_aug(load_dir, save_dir)\n",
    "print(res)"
   ]
  }
 ],
 "metadata": {
  "kernelspec": {
   "display_name": "Python 3",
   "language": "python",
   "name": "python3"
  },
  "language_info": {
   "codemirror_mode": {
    "name": "ipython",
    "version": 3
   },
   "file_extension": ".py",
   "mimetype": "text/x-python",
   "name": "python",
   "nbconvert_exporter": "python",
   "pygments_lexer": "ipython3",
   "version": "3.7.6"
  }
 },
 "nbformat": 4,
 "nbformat_minor": 2
}
